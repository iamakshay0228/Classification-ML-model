{
  "nbformat": 4,
  "nbformat_minor": 0,
  "metadata": {
    "colab": {
      "provenance": [],
      "authorship_tag": "ABX9TyNIqb8MHtxTi/4vNDySArvA",
      "include_colab_link": true
    },
    "kernelspec": {
      "name": "python3",
      "display_name": "Python 3"
    },
    "language_info": {
      "name": "python"
    }
  },
  "cells": [
    {
      "cell_type": "markdown",
      "metadata": {
        "id": "view-in-github",
        "colab_type": "text"
      },
      "source": [
        "<a href=\"https://colab.research.google.com/github/iamakshay0228/Classification-ML-model/blob/main/classification.ipynb\" target=\"_parent\"><img src=\"https://colab.research.google.com/assets/colab-badge.svg\" alt=\"Open In Colab\"/></a>"
      ]
    },
    {
      "cell_type": "markdown",
      "source": [
        "## **Project** **Name**- Credit Card Default Prediction"
      ],
      "metadata": {
        "id": "0V4Kk27YSwQg"
      }
    },
    {
      "cell_type": "markdown",
      "source": [
        "##**Contribution**-Individual"
      ],
      "metadata": {
        "id": "WfK4ZR9PSShs"
      }
    },
    {
      "cell_type": "markdown",
      "source": [
        "## **Submitted by**- Akshay  Ingle"
      ],
      "metadata": {
        "id": "RmpAaEqLPrKS"
      }
    },
    {
      "cell_type": "markdown",
      "source": [
        "##**GitHub Link**-"
      ],
      "metadata": {
        "id": "RUdRx2TvEwe8"
      }
    },
    {
      "cell_type": "markdown",
      "source": [
        "##Project Description\n",
        "This project is aimed at predicting the case of customers' default payments in Taiwan. From the perspective of risk management, the result of predictive accuracy of the estimated probability of default will be more valuable than the binary result of classification - credible or not credible clients. We can use the K-S chart to evaluate which customers will default on their credit card payments."
      ],
      "metadata": {
        "id": "UihxvZJwOW2f"
      }
    },
    {
      "cell_type": "markdown",
      "source": [
        "## Problem Statement"
      ],
      "metadata": {
        "id": "dwMHoJ1nS6_x"
      }
    },
    {
      "cell_type": "markdown",
      "source": [
        "The main objective is to build a model that can predict whether a customer is a defaulter or not using various classification technique."
      ],
      "metadata": {
        "id": "8mHnSmwcTF_e"
      }
    },
    {
      "cell_type": "code",
      "source": [
        "import pandas as pd\n",
        "import numpy as np\n",
        "import seaborn as sns\n",
        "import matplotlib.pyplot as plt\n",
        "%matplotlib inline\n",
        "from google.colab import drive"
      ],
      "metadata": {
        "id": "9kitqGbDXaIQ"
      },
      "execution_count": null,
      "outputs": []
    },
    {
      "cell_type": "code",
      "source": [
        "from sklearn.model_selection import train_test_split\n",
        "from sklearn.tree import DecisionTreeClassifier\n",
        "from sklearn.model_selection import train_test_split\n",
        "from sklearn.ensemble import RandomForestClassifier\n",
        "from sklearn.ensemble import GradientBoostingClassifier\n",
        "from sklearn.model_selection import GridSearchCV\n",
        "from sklearn.metrics import roc_auc_score, confusion_matrix, accuracy_score, precision_score, recall_score,f1_score"
      ],
      "metadata": {
        "id": "pemg-dFcXZ3C"
      },
      "execution_count": null,
      "outputs": []
    },
    {
      "cell_type": "code",
      "source": [
        "from google.colab import drive\n",
        "drive.mount('/content/drive')"
      ],
      "metadata": {
        "colab": {
          "base_uri": "https://localhost:8080/"
        },
        "id": "vu4fbcu3PUlv",
        "outputId": "6664a9b9-a0fd-44e3-c925-b3c281cd78bf"
      },
      "execution_count": null,
      "outputs": [
        {
          "output_type": "stream",
          "name": "stdout",
          "text": [
            "Mounted at /content/drive\n"
          ]
        }
      ]
    },
    {
      "cell_type": "code",
      "source": [
        "cc_df = pd.read_excel('/content/default of credit card clients.xls')"
      ],
      "metadata": {
        "id": "MuBrjTHdadhx"
      },
      "execution_count": null,
      "outputs": []
    },
    {
      "cell_type": "code",
      "source": [
        "cc_df"
      ],
      "metadata": {
        "colab": {
          "base_uri": "https://localhost:8080/",
          "height": 495
        },
        "id": "Gn0kHURAcBzb",
        "outputId": "14830b32-190c-4aff-c23b-db2aa92e90d0"
      },
      "execution_count": null,
      "outputs": [
        {
          "output_type": "execute_result",
          "data": {
            "text/plain": [
              "          ID  LIMIT_BAL  SEX  EDUCATION  MARRIAGE  AGE  PAY_0  PAY_2  PAY_3  \\\n",
              "0          1      20000    2          2         1   24      2      2     -1   \n",
              "1          2     120000    2          2         2   26     -1      2      0   \n",
              "2          3      90000    2          2         2   34      0      0      0   \n",
              "3          4      50000    2          2         1   37      0      0      0   \n",
              "4          5      50000    1          2         1   57     -1      0     -1   \n",
              "...      ...        ...  ...        ...       ...  ...    ...    ...    ...   \n",
              "29995  29996     220000    1          3         1   39      0      0      0   \n",
              "29996  29997     150000    1          3         2   43     -1     -1     -1   \n",
              "29997  29998      30000    1          2         2   37      4      3      2   \n",
              "29998  29999      80000    1          3         1   41      1     -1      0   \n",
              "29999  30000      50000    1          2         1   46      0      0      0   \n",
              "\n",
              "       PAY_4  ...  BILL_AMT4  BILL_AMT5  BILL_AMT6  PAY_AMT1  PAY_AMT2  \\\n",
              "0         -1  ...          0          0          0         0       689   \n",
              "1          0  ...       3272       3455       3261         0      1000   \n",
              "2          0  ...      14331      14948      15549      1518      1500   \n",
              "3          0  ...      28314      28959      29547      2000      2019   \n",
              "4          0  ...      20940      19146      19131      2000     36681   \n",
              "...      ...  ...        ...        ...        ...       ...       ...   \n",
              "29995      0  ...      88004      31237      15980      8500     20000   \n",
              "29996     -1  ...       8979       5190          0      1837      3526   \n",
              "29997     -1  ...      20878      20582      19357         0         0   \n",
              "29998      0  ...      52774      11855      48944     85900      3409   \n",
              "29999      0  ...      36535      32428      15313      2078      1800   \n",
              "\n",
              "       PAY_AMT3  PAY_AMT4  PAY_AMT5  PAY_AMT6  default payment next month  \n",
              "0             0         0         0         0                           1  \n",
              "1          1000      1000         0      2000                           1  \n",
              "2          1000      1000      1000      5000                           0  \n",
              "3          1200      1100      1069      1000                           0  \n",
              "4         10000      9000       689       679                           0  \n",
              "...         ...       ...       ...       ...                         ...  \n",
              "29995      5003      3047      5000      1000                           0  \n",
              "29996      8998       129         0         0                           0  \n",
              "29997     22000      4200      2000      3100                           1  \n",
              "29998      1178      1926     52964      1804                           1  \n",
              "29999      1430      1000      1000      1000                           1  \n",
              "\n",
              "[30000 rows x 25 columns]"
            ],
            "text/html": [
              "\n",
              "  <div id=\"df-b1e2b2cb-d1c4-4acc-8f94-44f8fdfe418e\" class=\"colab-df-container\">\n",
              "    <div>\n",
              "<style scoped>\n",
              "    .dataframe tbody tr th:only-of-type {\n",
              "        vertical-align: middle;\n",
              "    }\n",
              "\n",
              "    .dataframe tbody tr th {\n",
              "        vertical-align: top;\n",
              "    }\n",
              "\n",
              "    .dataframe thead th {\n",
              "        text-align: right;\n",
              "    }\n",
              "</style>\n",
              "<table border=\"1\" class=\"dataframe\">\n",
              "  <thead>\n",
              "    <tr style=\"text-align: right;\">\n",
              "      <th></th>\n",
              "      <th>ID</th>\n",
              "      <th>LIMIT_BAL</th>\n",
              "      <th>SEX</th>\n",
              "      <th>EDUCATION</th>\n",
              "      <th>MARRIAGE</th>\n",
              "      <th>AGE</th>\n",
              "      <th>PAY_0</th>\n",
              "      <th>PAY_2</th>\n",
              "      <th>PAY_3</th>\n",
              "      <th>PAY_4</th>\n",
              "      <th>...</th>\n",
              "      <th>BILL_AMT4</th>\n",
              "      <th>BILL_AMT5</th>\n",
              "      <th>BILL_AMT6</th>\n",
              "      <th>PAY_AMT1</th>\n",
              "      <th>PAY_AMT2</th>\n",
              "      <th>PAY_AMT3</th>\n",
              "      <th>PAY_AMT4</th>\n",
              "      <th>PAY_AMT5</th>\n",
              "      <th>PAY_AMT6</th>\n",
              "      <th>default payment next month</th>\n",
              "    </tr>\n",
              "  </thead>\n",
              "  <tbody>\n",
              "    <tr>\n",
              "      <th>0</th>\n",
              "      <td>1</td>\n",
              "      <td>20000</td>\n",
              "      <td>2</td>\n",
              "      <td>2</td>\n",
              "      <td>1</td>\n",
              "      <td>24</td>\n",
              "      <td>2</td>\n",
              "      <td>2</td>\n",
              "      <td>-1</td>\n",
              "      <td>-1</td>\n",
              "      <td>...</td>\n",
              "      <td>0</td>\n",
              "      <td>0</td>\n",
              "      <td>0</td>\n",
              "      <td>0</td>\n",
              "      <td>689</td>\n",
              "      <td>0</td>\n",
              "      <td>0</td>\n",
              "      <td>0</td>\n",
              "      <td>0</td>\n",
              "      <td>1</td>\n",
              "    </tr>\n",
              "    <tr>\n",
              "      <th>1</th>\n",
              "      <td>2</td>\n",
              "      <td>120000</td>\n",
              "      <td>2</td>\n",
              "      <td>2</td>\n",
              "      <td>2</td>\n",
              "      <td>26</td>\n",
              "      <td>-1</td>\n",
              "      <td>2</td>\n",
              "      <td>0</td>\n",
              "      <td>0</td>\n",
              "      <td>...</td>\n",
              "      <td>3272</td>\n",
              "      <td>3455</td>\n",
              "      <td>3261</td>\n",
              "      <td>0</td>\n",
              "      <td>1000</td>\n",
              "      <td>1000</td>\n",
              "      <td>1000</td>\n",
              "      <td>0</td>\n",
              "      <td>2000</td>\n",
              "      <td>1</td>\n",
              "    </tr>\n",
              "    <tr>\n",
              "      <th>2</th>\n",
              "      <td>3</td>\n",
              "      <td>90000</td>\n",
              "      <td>2</td>\n",
              "      <td>2</td>\n",
              "      <td>2</td>\n",
              "      <td>34</td>\n",
              "      <td>0</td>\n",
              "      <td>0</td>\n",
              "      <td>0</td>\n",
              "      <td>0</td>\n",
              "      <td>...</td>\n",
              "      <td>14331</td>\n",
              "      <td>14948</td>\n",
              "      <td>15549</td>\n",
              "      <td>1518</td>\n",
              "      <td>1500</td>\n",
              "      <td>1000</td>\n",
              "      <td>1000</td>\n",
              "      <td>1000</td>\n",
              "      <td>5000</td>\n",
              "      <td>0</td>\n",
              "    </tr>\n",
              "    <tr>\n",
              "      <th>3</th>\n",
              "      <td>4</td>\n",
              "      <td>50000</td>\n",
              "      <td>2</td>\n",
              "      <td>2</td>\n",
              "      <td>1</td>\n",
              "      <td>37</td>\n",
              "      <td>0</td>\n",
              "      <td>0</td>\n",
              "      <td>0</td>\n",
              "      <td>0</td>\n",
              "      <td>...</td>\n",
              "      <td>28314</td>\n",
              "      <td>28959</td>\n",
              "      <td>29547</td>\n",
              "      <td>2000</td>\n",
              "      <td>2019</td>\n",
              "      <td>1200</td>\n",
              "      <td>1100</td>\n",
              "      <td>1069</td>\n",
              "      <td>1000</td>\n",
              "      <td>0</td>\n",
              "    </tr>\n",
              "    <tr>\n",
              "      <th>4</th>\n",
              "      <td>5</td>\n",
              "      <td>50000</td>\n",
              "      <td>1</td>\n",
              "      <td>2</td>\n",
              "      <td>1</td>\n",
              "      <td>57</td>\n",
              "      <td>-1</td>\n",
              "      <td>0</td>\n",
              "      <td>-1</td>\n",
              "      <td>0</td>\n",
              "      <td>...</td>\n",
              "      <td>20940</td>\n",
              "      <td>19146</td>\n",
              "      <td>19131</td>\n",
              "      <td>2000</td>\n",
              "      <td>36681</td>\n",
              "      <td>10000</td>\n",
              "      <td>9000</td>\n",
              "      <td>689</td>\n",
              "      <td>679</td>\n",
              "      <td>0</td>\n",
              "    </tr>\n",
              "    <tr>\n",
              "      <th>...</th>\n",
              "      <td>...</td>\n",
              "      <td>...</td>\n",
              "      <td>...</td>\n",
              "      <td>...</td>\n",
              "      <td>...</td>\n",
              "      <td>...</td>\n",
              "      <td>...</td>\n",
              "      <td>...</td>\n",
              "      <td>...</td>\n",
              "      <td>...</td>\n",
              "      <td>...</td>\n",
              "      <td>...</td>\n",
              "      <td>...</td>\n",
              "      <td>...</td>\n",
              "      <td>...</td>\n",
              "      <td>...</td>\n",
              "      <td>...</td>\n",
              "      <td>...</td>\n",
              "      <td>...</td>\n",
              "      <td>...</td>\n",
              "      <td>...</td>\n",
              "    </tr>\n",
              "    <tr>\n",
              "      <th>29995</th>\n",
              "      <td>29996</td>\n",
              "      <td>220000</td>\n",
              "      <td>1</td>\n",
              "      <td>3</td>\n",
              "      <td>1</td>\n",
              "      <td>39</td>\n",
              "      <td>0</td>\n",
              "      <td>0</td>\n",
              "      <td>0</td>\n",
              "      <td>0</td>\n",
              "      <td>...</td>\n",
              "      <td>88004</td>\n",
              "      <td>31237</td>\n",
              "      <td>15980</td>\n",
              "      <td>8500</td>\n",
              "      <td>20000</td>\n",
              "      <td>5003</td>\n",
              "      <td>3047</td>\n",
              "      <td>5000</td>\n",
              "      <td>1000</td>\n",
              "      <td>0</td>\n",
              "    </tr>\n",
              "    <tr>\n",
              "      <th>29996</th>\n",
              "      <td>29997</td>\n",
              "      <td>150000</td>\n",
              "      <td>1</td>\n",
              "      <td>3</td>\n",
              "      <td>2</td>\n",
              "      <td>43</td>\n",
              "      <td>-1</td>\n",
              "      <td>-1</td>\n",
              "      <td>-1</td>\n",
              "      <td>-1</td>\n",
              "      <td>...</td>\n",
              "      <td>8979</td>\n",
              "      <td>5190</td>\n",
              "      <td>0</td>\n",
              "      <td>1837</td>\n",
              "      <td>3526</td>\n",
              "      <td>8998</td>\n",
              "      <td>129</td>\n",
              "      <td>0</td>\n",
              "      <td>0</td>\n",
              "      <td>0</td>\n",
              "    </tr>\n",
              "    <tr>\n",
              "      <th>29997</th>\n",
              "      <td>29998</td>\n",
              "      <td>30000</td>\n",
              "      <td>1</td>\n",
              "      <td>2</td>\n",
              "      <td>2</td>\n",
              "      <td>37</td>\n",
              "      <td>4</td>\n",
              "      <td>3</td>\n",
              "      <td>2</td>\n",
              "      <td>-1</td>\n",
              "      <td>...</td>\n",
              "      <td>20878</td>\n",
              "      <td>20582</td>\n",
              "      <td>19357</td>\n",
              "      <td>0</td>\n",
              "      <td>0</td>\n",
              "      <td>22000</td>\n",
              "      <td>4200</td>\n",
              "      <td>2000</td>\n",
              "      <td>3100</td>\n",
              "      <td>1</td>\n",
              "    </tr>\n",
              "    <tr>\n",
              "      <th>29998</th>\n",
              "      <td>29999</td>\n",
              "      <td>80000</td>\n",
              "      <td>1</td>\n",
              "      <td>3</td>\n",
              "      <td>1</td>\n",
              "      <td>41</td>\n",
              "      <td>1</td>\n",
              "      <td>-1</td>\n",
              "      <td>0</td>\n",
              "      <td>0</td>\n",
              "      <td>...</td>\n",
              "      <td>52774</td>\n",
              "      <td>11855</td>\n",
              "      <td>48944</td>\n",
              "      <td>85900</td>\n",
              "      <td>3409</td>\n",
              "      <td>1178</td>\n",
              "      <td>1926</td>\n",
              "      <td>52964</td>\n",
              "      <td>1804</td>\n",
              "      <td>1</td>\n",
              "    </tr>\n",
              "    <tr>\n",
              "      <th>29999</th>\n",
              "      <td>30000</td>\n",
              "      <td>50000</td>\n",
              "      <td>1</td>\n",
              "      <td>2</td>\n",
              "      <td>1</td>\n",
              "      <td>46</td>\n",
              "      <td>0</td>\n",
              "      <td>0</td>\n",
              "      <td>0</td>\n",
              "      <td>0</td>\n",
              "      <td>...</td>\n",
              "      <td>36535</td>\n",
              "      <td>32428</td>\n",
              "      <td>15313</td>\n",
              "      <td>2078</td>\n",
              "      <td>1800</td>\n",
              "      <td>1430</td>\n",
              "      <td>1000</td>\n",
              "      <td>1000</td>\n",
              "      <td>1000</td>\n",
              "      <td>1</td>\n",
              "    </tr>\n",
              "  </tbody>\n",
              "</table>\n",
              "<p>30000 rows × 25 columns</p>\n",
              "</div>\n",
              "    <div class=\"colab-df-buttons\">\n",
              "\n",
              "  <div class=\"colab-df-container\">\n",
              "    <button class=\"colab-df-convert\" onclick=\"convertToInteractive('df-b1e2b2cb-d1c4-4acc-8f94-44f8fdfe418e')\"\n",
              "            title=\"Convert this dataframe to an interactive table.\"\n",
              "            style=\"display:none;\">\n",
              "\n",
              "  <svg xmlns=\"http://www.w3.org/2000/svg\" height=\"24px\" viewBox=\"0 -960 960 960\">\n",
              "    <path d=\"M120-120v-720h720v720H120Zm60-500h600v-160H180v160Zm220 220h160v-160H400v160Zm0 220h160v-160H400v160ZM180-400h160v-160H180v160Zm440 0h160v-160H620v160ZM180-180h160v-160H180v160Zm440 0h160v-160H620v160Z\"/>\n",
              "  </svg>\n",
              "    </button>\n",
              "\n",
              "  <style>\n",
              "    .colab-df-container {\n",
              "      display:flex;\n",
              "      gap: 12px;\n",
              "    }\n",
              "\n",
              "    .colab-df-convert {\n",
              "      background-color: #E8F0FE;\n",
              "      border: none;\n",
              "      border-radius: 50%;\n",
              "      cursor: pointer;\n",
              "      display: none;\n",
              "      fill: #1967D2;\n",
              "      height: 32px;\n",
              "      padding: 0 0 0 0;\n",
              "      width: 32px;\n",
              "    }\n",
              "\n",
              "    .colab-df-convert:hover {\n",
              "      background-color: #E2EBFA;\n",
              "      box-shadow: 0px 1px 2px rgba(60, 64, 67, 0.3), 0px 1px 3px 1px rgba(60, 64, 67, 0.15);\n",
              "      fill: #174EA6;\n",
              "    }\n",
              "\n",
              "    .colab-df-buttons div {\n",
              "      margin-bottom: 4px;\n",
              "    }\n",
              "\n",
              "    [theme=dark] .colab-df-convert {\n",
              "      background-color: #3B4455;\n",
              "      fill: #D2E3FC;\n",
              "    }\n",
              "\n",
              "    [theme=dark] .colab-df-convert:hover {\n",
              "      background-color: #434B5C;\n",
              "      box-shadow: 0px 1px 3px 1px rgba(0, 0, 0, 0.15);\n",
              "      filter: drop-shadow(0px 1px 2px rgba(0, 0, 0, 0.3));\n",
              "      fill: #FFFFFF;\n",
              "    }\n",
              "  </style>\n",
              "\n",
              "    <script>\n",
              "      const buttonEl =\n",
              "        document.querySelector('#df-b1e2b2cb-d1c4-4acc-8f94-44f8fdfe418e button.colab-df-convert');\n",
              "      buttonEl.style.display =\n",
              "        google.colab.kernel.accessAllowed ? 'block' : 'none';\n",
              "\n",
              "      async function convertToInteractive(key) {\n",
              "        const element = document.querySelector('#df-b1e2b2cb-d1c4-4acc-8f94-44f8fdfe418e');\n",
              "        const dataTable =\n",
              "          await google.colab.kernel.invokeFunction('convertToInteractive',\n",
              "                                                    [key], {});\n",
              "        if (!dataTable) return;\n",
              "\n",
              "        const docLinkHtml = 'Like what you see? Visit the ' +\n",
              "          '<a target=\"_blank\" href=https://colab.research.google.com/notebooks/data_table.ipynb>data table notebook</a>'\n",
              "          + ' to learn more about interactive tables.';\n",
              "        element.innerHTML = '';\n",
              "        dataTable['output_type'] = 'display_data';\n",
              "        await google.colab.output.renderOutput(dataTable, element);\n",
              "        const docLink = document.createElement('div');\n",
              "        docLink.innerHTML = docLinkHtml;\n",
              "        element.appendChild(docLink);\n",
              "      }\n",
              "    </script>\n",
              "  </div>\n",
              "\n",
              "\n",
              "<div id=\"df-88745f57-8201-4f80-a505-4f06b71918c8\">\n",
              "  <button class=\"colab-df-quickchart\" onclick=\"quickchart('df-88745f57-8201-4f80-a505-4f06b71918c8')\"\n",
              "            title=\"Suggest charts\"\n",
              "            style=\"display:none;\">\n",
              "\n",
              "<svg xmlns=\"http://www.w3.org/2000/svg\" height=\"24px\"viewBox=\"0 0 24 24\"\n",
              "     width=\"24px\">\n",
              "    <g>\n",
              "        <path d=\"M19 3H5c-1.1 0-2 .9-2 2v14c0 1.1.9 2 2 2h14c1.1 0 2-.9 2-2V5c0-1.1-.9-2-2-2zM9 17H7v-7h2v7zm4 0h-2V7h2v10zm4 0h-2v-4h2v4z\"/>\n",
              "    </g>\n",
              "</svg>\n",
              "  </button>\n",
              "\n",
              "<style>\n",
              "  .colab-df-quickchart {\n",
              "      --bg-color: #E8F0FE;\n",
              "      --fill-color: #1967D2;\n",
              "      --hover-bg-color: #E2EBFA;\n",
              "      --hover-fill-color: #174EA6;\n",
              "      --disabled-fill-color: #AAA;\n",
              "      --disabled-bg-color: #DDD;\n",
              "  }\n",
              "\n",
              "  [theme=dark] .colab-df-quickchart {\n",
              "      --bg-color: #3B4455;\n",
              "      --fill-color: #D2E3FC;\n",
              "      --hover-bg-color: #434B5C;\n",
              "      --hover-fill-color: #FFFFFF;\n",
              "      --disabled-bg-color: #3B4455;\n",
              "      --disabled-fill-color: #666;\n",
              "  }\n",
              "\n",
              "  .colab-df-quickchart {\n",
              "    background-color: var(--bg-color);\n",
              "    border: none;\n",
              "    border-radius: 50%;\n",
              "    cursor: pointer;\n",
              "    display: none;\n",
              "    fill: var(--fill-color);\n",
              "    height: 32px;\n",
              "    padding: 0;\n",
              "    width: 32px;\n",
              "  }\n",
              "\n",
              "  .colab-df-quickchart:hover {\n",
              "    background-color: var(--hover-bg-color);\n",
              "    box-shadow: 0 1px 2px rgba(60, 64, 67, 0.3), 0 1px 3px 1px rgba(60, 64, 67, 0.15);\n",
              "    fill: var(--button-hover-fill-color);\n",
              "  }\n",
              "\n",
              "  .colab-df-quickchart-complete:disabled,\n",
              "  .colab-df-quickchart-complete:disabled:hover {\n",
              "    background-color: var(--disabled-bg-color);\n",
              "    fill: var(--disabled-fill-color);\n",
              "    box-shadow: none;\n",
              "  }\n",
              "\n",
              "  .colab-df-spinner {\n",
              "    border: 2px solid var(--fill-color);\n",
              "    border-color: transparent;\n",
              "    border-bottom-color: var(--fill-color);\n",
              "    animation:\n",
              "      spin 1s steps(1) infinite;\n",
              "  }\n",
              "\n",
              "  @keyframes spin {\n",
              "    0% {\n",
              "      border-color: transparent;\n",
              "      border-bottom-color: var(--fill-color);\n",
              "      border-left-color: var(--fill-color);\n",
              "    }\n",
              "    20% {\n",
              "      border-color: transparent;\n",
              "      border-left-color: var(--fill-color);\n",
              "      border-top-color: var(--fill-color);\n",
              "    }\n",
              "    30% {\n",
              "      border-color: transparent;\n",
              "      border-left-color: var(--fill-color);\n",
              "      border-top-color: var(--fill-color);\n",
              "      border-right-color: var(--fill-color);\n",
              "    }\n",
              "    40% {\n",
              "      border-color: transparent;\n",
              "      border-right-color: var(--fill-color);\n",
              "      border-top-color: var(--fill-color);\n",
              "    }\n",
              "    60% {\n",
              "      border-color: transparent;\n",
              "      border-right-color: var(--fill-color);\n",
              "    }\n",
              "    80% {\n",
              "      border-color: transparent;\n",
              "      border-right-color: var(--fill-color);\n",
              "      border-bottom-color: var(--fill-color);\n",
              "    }\n",
              "    90% {\n",
              "      border-color: transparent;\n",
              "      border-bottom-color: var(--fill-color);\n",
              "    }\n",
              "  }\n",
              "</style>\n",
              "\n",
              "  <script>\n",
              "    async function quickchart(key) {\n",
              "      const quickchartButtonEl =\n",
              "        document.querySelector('#' + key + ' button');\n",
              "      quickchartButtonEl.disabled = true;  // To prevent multiple clicks.\n",
              "      quickchartButtonEl.classList.add('colab-df-spinner');\n",
              "      try {\n",
              "        const charts = await google.colab.kernel.invokeFunction(\n",
              "            'suggestCharts', [key], {});\n",
              "      } catch (error) {\n",
              "        console.error('Error during call to suggestCharts:', error);\n",
              "      }\n",
              "      quickchartButtonEl.classList.remove('colab-df-spinner');\n",
              "      quickchartButtonEl.classList.add('colab-df-quickchart-complete');\n",
              "    }\n",
              "    (() => {\n",
              "      let quickchartButtonEl =\n",
              "        document.querySelector('#df-88745f57-8201-4f80-a505-4f06b71918c8 button');\n",
              "      quickchartButtonEl.style.display =\n",
              "        google.colab.kernel.accessAllowed ? 'block' : 'none';\n",
              "    })();\n",
              "  </script>\n",
              "</div>\n",
              "\n",
              "  <div id=\"id_34e57b2b-f21d-43da-9b88-5bc05d273f8c\">\n",
              "    <style>\n",
              "      .colab-df-generate {\n",
              "        background-color: #E8F0FE;\n",
              "        border: none;\n",
              "        border-radius: 50%;\n",
              "        cursor: pointer;\n",
              "        display: none;\n",
              "        fill: #1967D2;\n",
              "        height: 32px;\n",
              "        padding: 0 0 0 0;\n",
              "        width: 32px;\n",
              "      }\n",
              "\n",
              "      .colab-df-generate:hover {\n",
              "        background-color: #E2EBFA;\n",
              "        box-shadow: 0px 1px 2px rgba(60, 64, 67, 0.3), 0px 1px 3px 1px rgba(60, 64, 67, 0.15);\n",
              "        fill: #174EA6;\n",
              "      }\n",
              "\n",
              "      [theme=dark] .colab-df-generate {\n",
              "        background-color: #3B4455;\n",
              "        fill: #D2E3FC;\n",
              "      }\n",
              "\n",
              "      [theme=dark] .colab-df-generate:hover {\n",
              "        background-color: #434B5C;\n",
              "        box-shadow: 0px 1px 3px 1px rgba(0, 0, 0, 0.15);\n",
              "        filter: drop-shadow(0px 1px 2px rgba(0, 0, 0, 0.3));\n",
              "        fill: #FFFFFF;\n",
              "      }\n",
              "    </style>\n",
              "    <button class=\"colab-df-generate\" onclick=\"generateWithVariable('cc_df')\"\n",
              "            title=\"Generate code using this dataframe.\"\n",
              "            style=\"display:none;\">\n",
              "\n",
              "  <svg xmlns=\"http://www.w3.org/2000/svg\" height=\"24px\"viewBox=\"0 0 24 24\"\n",
              "       width=\"24px\">\n",
              "    <path d=\"M7,19H8.4L18.45,9,17,7.55,7,17.6ZM5,21V16.75L18.45,3.32a2,2,0,0,1,2.83,0l1.4,1.43a1.91,1.91,0,0,1,.58,1.4,1.91,1.91,0,0,1-.58,1.4L9.25,21ZM18.45,9,17,7.55Zm-12,3A5.31,5.31,0,0,0,4.9,8.1,5.31,5.31,0,0,0,1,6.5,5.31,5.31,0,0,0,4.9,4.9,5.31,5.31,0,0,0,6.5,1,5.31,5.31,0,0,0,8.1,4.9,5.31,5.31,0,0,0,12,6.5,5.46,5.46,0,0,0,6.5,12Z\"/>\n",
              "  </svg>\n",
              "    </button>\n",
              "    <script>\n",
              "      (() => {\n",
              "      const buttonEl =\n",
              "        document.querySelector('#id_34e57b2b-f21d-43da-9b88-5bc05d273f8c button.colab-df-generate');\n",
              "      buttonEl.style.display =\n",
              "        google.colab.kernel.accessAllowed ? 'block' : 'none';\n",
              "\n",
              "      buttonEl.onclick = () => {\n",
              "        google.colab.notebook.generateWithVariable('cc_df');\n",
              "      }\n",
              "      })();\n",
              "    </script>\n",
              "  </div>\n",
              "\n",
              "    </div>\n",
              "  </div>\n"
            ],
            "application/vnd.google.colaboratory.intrinsic+json": {
              "type": "dataframe",
              "variable_name": "cc_df"
            }
          },
          "metadata": {},
          "execution_count": 6
        }
      ]
    },
    {
      "cell_type": "code",
      "source": [],
      "metadata": {
        "id": "cE4fW_1FW5YO"
      },
      "execution_count": null,
      "outputs": []
    },
    {
      "cell_type": "code",
      "source": [
        "cc_df.head()"
      ],
      "metadata": {
        "colab": {
          "base_uri": "https://localhost:8080/",
          "height": 307
        },
        "id": "BoIG-ccecOUe",
        "outputId": "f81cedb7-fa48-406c-9651-acd87e571e65"
      },
      "execution_count": null,
      "outputs": [
        {
          "output_type": "execute_result",
          "data": {
            "text/plain": [
              "   ID  LIMIT_BAL  SEX  EDUCATION  MARRIAGE  AGE  PAY_0  PAY_2  PAY_3  PAY_4  \\\n",
              "0   1      20000    2          2         1   24      2      2     -1     -1   \n",
              "1   2     120000    2          2         2   26     -1      2      0      0   \n",
              "2   3      90000    2          2         2   34      0      0      0      0   \n",
              "3   4      50000    2          2         1   37      0      0      0      0   \n",
              "4   5      50000    1          2         1   57     -1      0     -1      0   \n",
              "\n",
              "   ...  BILL_AMT4  BILL_AMT5  BILL_AMT6  PAY_AMT1  PAY_AMT2  PAY_AMT3  \\\n",
              "0  ...          0          0          0         0       689         0   \n",
              "1  ...       3272       3455       3261         0      1000      1000   \n",
              "2  ...      14331      14948      15549      1518      1500      1000   \n",
              "3  ...      28314      28959      29547      2000      2019      1200   \n",
              "4  ...      20940      19146      19131      2000     36681     10000   \n",
              "\n",
              "   PAY_AMT4  PAY_AMT5  PAY_AMT6  default payment next month  \n",
              "0         0         0         0                           1  \n",
              "1      1000         0      2000                           1  \n",
              "2      1000      1000      5000                           0  \n",
              "3      1100      1069      1000                           0  \n",
              "4      9000       689       679                           0  \n",
              "\n",
              "[5 rows x 25 columns]"
            ],
            "text/html": [
              "\n",
              "  <div id=\"df-21aba202-7cd7-4e0f-8a4b-f7d0526e1217\" class=\"colab-df-container\">\n",
              "    <div>\n",
              "<style scoped>\n",
              "    .dataframe tbody tr th:only-of-type {\n",
              "        vertical-align: middle;\n",
              "    }\n",
              "\n",
              "    .dataframe tbody tr th {\n",
              "        vertical-align: top;\n",
              "    }\n",
              "\n",
              "    .dataframe thead th {\n",
              "        text-align: right;\n",
              "    }\n",
              "</style>\n",
              "<table border=\"1\" class=\"dataframe\">\n",
              "  <thead>\n",
              "    <tr style=\"text-align: right;\">\n",
              "      <th></th>\n",
              "      <th>ID</th>\n",
              "      <th>LIMIT_BAL</th>\n",
              "      <th>SEX</th>\n",
              "      <th>EDUCATION</th>\n",
              "      <th>MARRIAGE</th>\n",
              "      <th>AGE</th>\n",
              "      <th>PAY_0</th>\n",
              "      <th>PAY_2</th>\n",
              "      <th>PAY_3</th>\n",
              "      <th>PAY_4</th>\n",
              "      <th>...</th>\n",
              "      <th>BILL_AMT4</th>\n",
              "      <th>BILL_AMT5</th>\n",
              "      <th>BILL_AMT6</th>\n",
              "      <th>PAY_AMT1</th>\n",
              "      <th>PAY_AMT2</th>\n",
              "      <th>PAY_AMT3</th>\n",
              "      <th>PAY_AMT4</th>\n",
              "      <th>PAY_AMT5</th>\n",
              "      <th>PAY_AMT6</th>\n",
              "      <th>default payment next month</th>\n",
              "    </tr>\n",
              "  </thead>\n",
              "  <tbody>\n",
              "    <tr>\n",
              "      <th>0</th>\n",
              "      <td>1</td>\n",
              "      <td>20000</td>\n",
              "      <td>2</td>\n",
              "      <td>2</td>\n",
              "      <td>1</td>\n",
              "      <td>24</td>\n",
              "      <td>2</td>\n",
              "      <td>2</td>\n",
              "      <td>-1</td>\n",
              "      <td>-1</td>\n",
              "      <td>...</td>\n",
              "      <td>0</td>\n",
              "      <td>0</td>\n",
              "      <td>0</td>\n",
              "      <td>0</td>\n",
              "      <td>689</td>\n",
              "      <td>0</td>\n",
              "      <td>0</td>\n",
              "      <td>0</td>\n",
              "      <td>0</td>\n",
              "      <td>1</td>\n",
              "    </tr>\n",
              "    <tr>\n",
              "      <th>1</th>\n",
              "      <td>2</td>\n",
              "      <td>120000</td>\n",
              "      <td>2</td>\n",
              "      <td>2</td>\n",
              "      <td>2</td>\n",
              "      <td>26</td>\n",
              "      <td>-1</td>\n",
              "      <td>2</td>\n",
              "      <td>0</td>\n",
              "      <td>0</td>\n",
              "      <td>...</td>\n",
              "      <td>3272</td>\n",
              "      <td>3455</td>\n",
              "      <td>3261</td>\n",
              "      <td>0</td>\n",
              "      <td>1000</td>\n",
              "      <td>1000</td>\n",
              "      <td>1000</td>\n",
              "      <td>0</td>\n",
              "      <td>2000</td>\n",
              "      <td>1</td>\n",
              "    </tr>\n",
              "    <tr>\n",
              "      <th>2</th>\n",
              "      <td>3</td>\n",
              "      <td>90000</td>\n",
              "      <td>2</td>\n",
              "      <td>2</td>\n",
              "      <td>2</td>\n",
              "      <td>34</td>\n",
              "      <td>0</td>\n",
              "      <td>0</td>\n",
              "      <td>0</td>\n",
              "      <td>0</td>\n",
              "      <td>...</td>\n",
              "      <td>14331</td>\n",
              "      <td>14948</td>\n",
              "      <td>15549</td>\n",
              "      <td>1518</td>\n",
              "      <td>1500</td>\n",
              "      <td>1000</td>\n",
              "      <td>1000</td>\n",
              "      <td>1000</td>\n",
              "      <td>5000</td>\n",
              "      <td>0</td>\n",
              "    </tr>\n",
              "    <tr>\n",
              "      <th>3</th>\n",
              "      <td>4</td>\n",
              "      <td>50000</td>\n",
              "      <td>2</td>\n",
              "      <td>2</td>\n",
              "      <td>1</td>\n",
              "      <td>37</td>\n",
              "      <td>0</td>\n",
              "      <td>0</td>\n",
              "      <td>0</td>\n",
              "      <td>0</td>\n",
              "      <td>...</td>\n",
              "      <td>28314</td>\n",
              "      <td>28959</td>\n",
              "      <td>29547</td>\n",
              "      <td>2000</td>\n",
              "      <td>2019</td>\n",
              "      <td>1200</td>\n",
              "      <td>1100</td>\n",
              "      <td>1069</td>\n",
              "      <td>1000</td>\n",
              "      <td>0</td>\n",
              "    </tr>\n",
              "    <tr>\n",
              "      <th>4</th>\n",
              "      <td>5</td>\n",
              "      <td>50000</td>\n",
              "      <td>1</td>\n",
              "      <td>2</td>\n",
              "      <td>1</td>\n",
              "      <td>57</td>\n",
              "      <td>-1</td>\n",
              "      <td>0</td>\n",
              "      <td>-1</td>\n",
              "      <td>0</td>\n",
              "      <td>...</td>\n",
              "      <td>20940</td>\n",
              "      <td>19146</td>\n",
              "      <td>19131</td>\n",
              "      <td>2000</td>\n",
              "      <td>36681</td>\n",
              "      <td>10000</td>\n",
              "      <td>9000</td>\n",
              "      <td>689</td>\n",
              "      <td>679</td>\n",
              "      <td>0</td>\n",
              "    </tr>\n",
              "  </tbody>\n",
              "</table>\n",
              "<p>5 rows × 25 columns</p>\n",
              "</div>\n",
              "    <div class=\"colab-df-buttons\">\n",
              "\n",
              "  <div class=\"colab-df-container\">\n",
              "    <button class=\"colab-df-convert\" onclick=\"convertToInteractive('df-21aba202-7cd7-4e0f-8a4b-f7d0526e1217')\"\n",
              "            title=\"Convert this dataframe to an interactive table.\"\n",
              "            style=\"display:none;\">\n",
              "\n",
              "  <svg xmlns=\"http://www.w3.org/2000/svg\" height=\"24px\" viewBox=\"0 -960 960 960\">\n",
              "    <path d=\"M120-120v-720h720v720H120Zm60-500h600v-160H180v160Zm220 220h160v-160H400v160Zm0 220h160v-160H400v160ZM180-400h160v-160H180v160Zm440 0h160v-160H620v160ZM180-180h160v-160H180v160Zm440 0h160v-160H620v160Z\"/>\n",
              "  </svg>\n",
              "    </button>\n",
              "\n",
              "  <style>\n",
              "    .colab-df-container {\n",
              "      display:flex;\n",
              "      gap: 12px;\n",
              "    }\n",
              "\n",
              "    .colab-df-convert {\n",
              "      background-color: #E8F0FE;\n",
              "      border: none;\n",
              "      border-radius: 50%;\n",
              "      cursor: pointer;\n",
              "      display: none;\n",
              "      fill: #1967D2;\n",
              "      height: 32px;\n",
              "      padding: 0 0 0 0;\n",
              "      width: 32px;\n",
              "    }\n",
              "\n",
              "    .colab-df-convert:hover {\n",
              "      background-color: #E2EBFA;\n",
              "      box-shadow: 0px 1px 2px rgba(60, 64, 67, 0.3), 0px 1px 3px 1px rgba(60, 64, 67, 0.15);\n",
              "      fill: #174EA6;\n",
              "    }\n",
              "\n",
              "    .colab-df-buttons div {\n",
              "      margin-bottom: 4px;\n",
              "    }\n",
              "\n",
              "    [theme=dark] .colab-df-convert {\n",
              "      background-color: #3B4455;\n",
              "      fill: #D2E3FC;\n",
              "    }\n",
              "\n",
              "    [theme=dark] .colab-df-convert:hover {\n",
              "      background-color: #434B5C;\n",
              "      box-shadow: 0px 1px 3px 1px rgba(0, 0, 0, 0.15);\n",
              "      filter: drop-shadow(0px 1px 2px rgba(0, 0, 0, 0.3));\n",
              "      fill: #FFFFFF;\n",
              "    }\n",
              "  </style>\n",
              "\n",
              "    <script>\n",
              "      const buttonEl =\n",
              "        document.querySelector('#df-21aba202-7cd7-4e0f-8a4b-f7d0526e1217 button.colab-df-convert');\n",
              "      buttonEl.style.display =\n",
              "        google.colab.kernel.accessAllowed ? 'block' : 'none';\n",
              "\n",
              "      async function convertToInteractive(key) {\n",
              "        const element = document.querySelector('#df-21aba202-7cd7-4e0f-8a4b-f7d0526e1217');\n",
              "        const dataTable =\n",
              "          await google.colab.kernel.invokeFunction('convertToInteractive',\n",
              "                                                    [key], {});\n",
              "        if (!dataTable) return;\n",
              "\n",
              "        const docLinkHtml = 'Like what you see? Visit the ' +\n",
              "          '<a target=\"_blank\" href=https://colab.research.google.com/notebooks/data_table.ipynb>data table notebook</a>'\n",
              "          + ' to learn more about interactive tables.';\n",
              "        element.innerHTML = '';\n",
              "        dataTable['output_type'] = 'display_data';\n",
              "        await google.colab.output.renderOutput(dataTable, element);\n",
              "        const docLink = document.createElement('div');\n",
              "        docLink.innerHTML = docLinkHtml;\n",
              "        element.appendChild(docLink);\n",
              "      }\n",
              "    </script>\n",
              "  </div>\n",
              "\n",
              "\n",
              "<div id=\"df-6c95428c-1e95-4a68-9c11-f5a7d29046e6\">\n",
              "  <button class=\"colab-df-quickchart\" onclick=\"quickchart('df-6c95428c-1e95-4a68-9c11-f5a7d29046e6')\"\n",
              "            title=\"Suggest charts\"\n",
              "            style=\"display:none;\">\n",
              "\n",
              "<svg xmlns=\"http://www.w3.org/2000/svg\" height=\"24px\"viewBox=\"0 0 24 24\"\n",
              "     width=\"24px\">\n",
              "    <g>\n",
              "        <path d=\"M19 3H5c-1.1 0-2 .9-2 2v14c0 1.1.9 2 2 2h14c1.1 0 2-.9 2-2V5c0-1.1-.9-2-2-2zM9 17H7v-7h2v7zm4 0h-2V7h2v10zm4 0h-2v-4h2v4z\"/>\n",
              "    </g>\n",
              "</svg>\n",
              "  </button>\n",
              "\n",
              "<style>\n",
              "  .colab-df-quickchart {\n",
              "      --bg-color: #E8F0FE;\n",
              "      --fill-color: #1967D2;\n",
              "      --hover-bg-color: #E2EBFA;\n",
              "      --hover-fill-color: #174EA6;\n",
              "      --disabled-fill-color: #AAA;\n",
              "      --disabled-bg-color: #DDD;\n",
              "  }\n",
              "\n",
              "  [theme=dark] .colab-df-quickchart {\n",
              "      --bg-color: #3B4455;\n",
              "      --fill-color: #D2E3FC;\n",
              "      --hover-bg-color: #434B5C;\n",
              "      --hover-fill-color: #FFFFFF;\n",
              "      --disabled-bg-color: #3B4455;\n",
              "      --disabled-fill-color: #666;\n",
              "  }\n",
              "\n",
              "  .colab-df-quickchart {\n",
              "    background-color: var(--bg-color);\n",
              "    border: none;\n",
              "    border-radius: 50%;\n",
              "    cursor: pointer;\n",
              "    display: none;\n",
              "    fill: var(--fill-color);\n",
              "    height: 32px;\n",
              "    padding: 0;\n",
              "    width: 32px;\n",
              "  }\n",
              "\n",
              "  .colab-df-quickchart:hover {\n",
              "    background-color: var(--hover-bg-color);\n",
              "    box-shadow: 0 1px 2px rgba(60, 64, 67, 0.3), 0 1px 3px 1px rgba(60, 64, 67, 0.15);\n",
              "    fill: var(--button-hover-fill-color);\n",
              "  }\n",
              "\n",
              "  .colab-df-quickchart-complete:disabled,\n",
              "  .colab-df-quickchart-complete:disabled:hover {\n",
              "    background-color: var(--disabled-bg-color);\n",
              "    fill: var(--disabled-fill-color);\n",
              "    box-shadow: none;\n",
              "  }\n",
              "\n",
              "  .colab-df-spinner {\n",
              "    border: 2px solid var(--fill-color);\n",
              "    border-color: transparent;\n",
              "    border-bottom-color: var(--fill-color);\n",
              "    animation:\n",
              "      spin 1s steps(1) infinite;\n",
              "  }\n",
              "\n",
              "  @keyframes spin {\n",
              "    0% {\n",
              "      border-color: transparent;\n",
              "      border-bottom-color: var(--fill-color);\n",
              "      border-left-color: var(--fill-color);\n",
              "    }\n",
              "    20% {\n",
              "      border-color: transparent;\n",
              "      border-left-color: var(--fill-color);\n",
              "      border-top-color: var(--fill-color);\n",
              "    }\n",
              "    30% {\n",
              "      border-color: transparent;\n",
              "      border-left-color: var(--fill-color);\n",
              "      border-top-color: var(--fill-color);\n",
              "      border-right-color: var(--fill-color);\n",
              "    }\n",
              "    40% {\n",
              "      border-color: transparent;\n",
              "      border-right-color: var(--fill-color);\n",
              "      border-top-color: var(--fill-color);\n",
              "    }\n",
              "    60% {\n",
              "      border-color: transparent;\n",
              "      border-right-color: var(--fill-color);\n",
              "    }\n",
              "    80% {\n",
              "      border-color: transparent;\n",
              "      border-right-color: var(--fill-color);\n",
              "      border-bottom-color: var(--fill-color);\n",
              "    }\n",
              "    90% {\n",
              "      border-color: transparent;\n",
              "      border-bottom-color: var(--fill-color);\n",
              "    }\n",
              "  }\n",
              "</style>\n",
              "\n",
              "  <script>\n",
              "    async function quickchart(key) {\n",
              "      const quickchartButtonEl =\n",
              "        document.querySelector('#' + key + ' button');\n",
              "      quickchartButtonEl.disabled = true;  // To prevent multiple clicks.\n",
              "      quickchartButtonEl.classList.add('colab-df-spinner');\n",
              "      try {\n",
              "        const charts = await google.colab.kernel.invokeFunction(\n",
              "            'suggestCharts', [key], {});\n",
              "      } catch (error) {\n",
              "        console.error('Error during call to suggestCharts:', error);\n",
              "      }\n",
              "      quickchartButtonEl.classList.remove('colab-df-spinner');\n",
              "      quickchartButtonEl.classList.add('colab-df-quickchart-complete');\n",
              "    }\n",
              "    (() => {\n",
              "      let quickchartButtonEl =\n",
              "        document.querySelector('#df-6c95428c-1e95-4a68-9c11-f5a7d29046e6 button');\n",
              "      quickchartButtonEl.style.display =\n",
              "        google.colab.kernel.accessAllowed ? 'block' : 'none';\n",
              "    })();\n",
              "  </script>\n",
              "</div>\n",
              "\n",
              "    </div>\n",
              "  </div>\n"
            ],
            "application/vnd.google.colaboratory.intrinsic+json": {
              "type": "dataframe",
              "variable_name": "cc_df"
            }
          },
          "metadata": {},
          "execution_count": 6
        }
      ]
    },
    {
      "cell_type": "code",
      "source": [
        "cc_df.info()"
      ],
      "metadata": {
        "colab": {
          "base_uri": "https://localhost:8080/"
        },
        "id": "01Vne1TOctd7",
        "outputId": "d3a36876-fb27-4b90-d1fa-5831171ec919"
      },
      "execution_count": null,
      "outputs": [
        {
          "output_type": "stream",
          "name": "stdout",
          "text": [
            "<class 'pandas.core.frame.DataFrame'>\n",
            "RangeIndex: 30000 entries, 0 to 29999\n",
            "Data columns (total 25 columns):\n",
            " #   Column                      Non-Null Count  Dtype\n",
            "---  ------                      --------------  -----\n",
            " 0   ID                          30000 non-null  int64\n",
            " 1   LIMIT_BAL                   30000 non-null  int64\n",
            " 2   SEX                         30000 non-null  int64\n",
            " 3   EDUCATION                   30000 non-null  int64\n",
            " 4   MARRIAGE                    30000 non-null  int64\n",
            " 5   AGE                         30000 non-null  int64\n",
            " 6   PAY_0                       30000 non-null  int64\n",
            " 7   PAY_2                       30000 non-null  int64\n",
            " 8   PAY_3                       30000 non-null  int64\n",
            " 9   PAY_4                       30000 non-null  int64\n",
            " 10  PAY_5                       30000 non-null  int64\n",
            " 11  PAY_6                       30000 non-null  int64\n",
            " 12  BILL_AMT1                   30000 non-null  int64\n",
            " 13  BILL_AMT2                   30000 non-null  int64\n",
            " 14  BILL_AMT3                   30000 non-null  int64\n",
            " 15  BILL_AMT4                   30000 non-null  int64\n",
            " 16  BILL_AMT5                   30000 non-null  int64\n",
            " 17  BILL_AMT6                   30000 non-null  int64\n",
            " 18  PAY_AMT1                    30000 non-null  int64\n",
            " 19  PAY_AMT2                    30000 non-null  int64\n",
            " 20  PAY_AMT3                    30000 non-null  int64\n",
            " 21  PAY_AMT4                    30000 non-null  int64\n",
            " 22  PAY_AMT5                    30000 non-null  int64\n",
            " 23  PAY_AMT6                    30000 non-null  int64\n",
            " 24  default payment next month  30000 non-null  int64\n",
            "dtypes: int64(25)\n",
            "memory usage: 5.7 MB\n"
          ]
        }
      ]
    },
    {
      "cell_type": "markdown",
      "source": [
        "## Exploratory Data Analysis"
      ],
      "metadata": {
        "id": "dgOBUqFSU9vX"
      }
    },
    {
      "cell_type": "code",
      "source": [
        "cc_df['SEX'].value_counts()"
      ],
      "metadata": {
        "colab": {
          "base_uri": "https://localhost:8080/",
          "height": 178
        },
        "id": "Y51eQ4YNk7tT",
        "outputId": "0b1de833-895f-414c-fbdb-9559f2287cca"
      },
      "execution_count": null,
      "outputs": [
        {
          "output_type": "execute_result",
          "data": {
            "text/plain": [
              "SEX\n",
              "2    18112\n",
              "1    11888\n",
              "Name: count, dtype: int64"
            ],
            "text/html": [
              "<div>\n",
              "<style scoped>\n",
              "    .dataframe tbody tr th:only-of-type {\n",
              "        vertical-align: middle;\n",
              "    }\n",
              "\n",
              "    .dataframe tbody tr th {\n",
              "        vertical-align: top;\n",
              "    }\n",
              "\n",
              "    .dataframe thead th {\n",
              "        text-align: right;\n",
              "    }\n",
              "</style>\n",
              "<table border=\"1\" class=\"dataframe\">\n",
              "  <thead>\n",
              "    <tr style=\"text-align: right;\">\n",
              "      <th></th>\n",
              "      <th>count</th>\n",
              "    </tr>\n",
              "    <tr>\n",
              "      <th>SEX</th>\n",
              "      <th></th>\n",
              "    </tr>\n",
              "  </thead>\n",
              "  <tbody>\n",
              "    <tr>\n",
              "      <th>2</th>\n",
              "      <td>18112</td>\n",
              "    </tr>\n",
              "    <tr>\n",
              "      <th>1</th>\n",
              "      <td>11888</td>\n",
              "    </tr>\n",
              "  </tbody>\n",
              "</table>\n",
              "</div><br><label><b>dtype:</b> int64</label>"
            ]
          },
          "metadata": {},
          "execution_count": 8
        }
      ]
    },
    {
      "cell_type": "markdown",
      "source": [
        "Lets assume \"2\" as female and \"1\" as male in SEX column of the dataset."
      ],
      "metadata": {
        "id": "bl0xE2LFVSMq"
      }
    },
    {
      "cell_type": "code",
      "source": [
        "sns.distplot(cc_df['AGE'], color=\"y\")"
      ],
      "metadata": {
        "colab": {
          "base_uri": "https://localhost:8080/",
          "height": 657
        },
        "id": "5_eCAzlWha5F",
        "outputId": "165298a0-fc24-457a-8c33-f52de5ad43e4"
      },
      "execution_count": null,
      "outputs": [
        {
          "output_type": "stream",
          "name": "stderr",
          "text": [
            "<ipython-input-11-2341afaceb88>:1: UserWarning: \n",
            "\n",
            "`distplot` is a deprecated function and will be removed in seaborn v0.14.0.\n",
            "\n",
            "Please adapt your code to use either `displot` (a figure-level function with\n",
            "similar flexibility) or `histplot` (an axes-level function for histograms).\n",
            "\n",
            "For a guide to updating your code to use the new functions, please see\n",
            "https://gist.github.com/mwaskom/de44147ed2974457ad6372750bbe5751\n",
            "\n",
            "  sns.distplot(cc_df['AGE'], color=\"y\")\n"
          ]
        },
        {
          "output_type": "execute_result",
          "data": {
            "text/plain": [
              "<Axes: xlabel='AGE', ylabel='Density'>"
            ]
          },
          "metadata": {},
          "execution_count": 11
        },
        {
          "output_type": "display_data",
          "data": {
            "text/plain": [
              "<Figure size 640x480 with 1 Axes>"
            ],
            "image/png": "[encoded data removed]"
          },
          "metadata": {}
        }
      ]
    },
    {
      "cell_type": "code",
      "source": [
        "Default_percentage = cc_df['default payment next month'].value_counts(normalize= True)*100\n",
        "colors=['orange','purple']\n",
        "Default_percentage.plot.bar(color=colors)\n",
        "plt.ylabel('percentage')\n",
        "plt.title('percentage of default customers')"
      ],
      "metadata": {
        "colab": {
          "base_uri": "https://localhost:8080/",
          "height": 484
        },
        "id": "Iel2WmK2mDs9",
        "outputId": "3ee409e6-7384-4231-938d-4a2c97cf5603"
      },
      "execution_count": null,
      "outputs": [
        {
          "output_type": "execute_result",
          "data": {
            "text/plain": [
              "Text(0.5, 1.0, 'percentage of default customers')"
            ]
          },
          "metadata": {},
          "execution_count": 12
        },
        {
          "output_type": "display_data",
          "data": {
            "text/plain": [
              "<Figure size 640x480 with 1 Axes>"
            ],
            "image/png": "[encoded data removed]"
          },
          "metadata": {}
        }
      ]
    },
    {
      "cell_type": "markdown",
      "source": [
        " In default payment next month column \"0\" represents customers that have payed their credit card bill sucessfully and \"1\" represents customers that have defaulted on their credit card bill."
      ],
      "metadata": {
        "id": "V_BB6ztuVq3P"
      }
    },
    {
      "cell_type": "code",
      "source": [
        "sns.countplot(x = 'SEX', hue= 'default payment next month', data = cc_df)"
      ],
      "metadata": {
        "colab": {
          "base_uri": "https://localhost:8080/",
          "height": 466
        },
        "id": "Du8rqGRfqYAj",
        "outputId": "5604b10e-bf13-4ea5-8399-f89bb97f68a3"
      },
      "execution_count": null,
      "outputs": [
        {
          "output_type": "execute_result",
          "data": {
            "text/plain": [
              "<Axes: xlabel='SEX', ylabel='count'>"
            ]
          },
          "metadata": {},
          "execution_count": 12
        },
        {
          "output_type": "display_data",
          "data": {
            "text/plain": [
              "<Figure size 640x480 with 1 Axes>"
            ],
            "image/png": "[encoded data removed]"
          },
          "metadata": {}
        }
      ]
    },
    {
      "cell_type": "code",
      "source": [
        "cc_df['MARRIAGE'].value_counts()"
      ],
      "metadata": {
        "colab": {
          "base_uri": "https://localhost:8080/"
        },
        "id": "4F1yj_CpKrDD",
        "outputId": "24d3d8d8-78e4-4357-9158-5bd060b128fd"
      },
      "execution_count": null,
      "outputs": [
        {
          "output_type": "execute_result",
          "data": {
            "text/plain": [
              "MARRIAGE\n",
              "2    15964\n",
              "1    13659\n",
              "3      323\n",
              "0       54\n",
              "Name: count, dtype: int64"
            ]
          },
          "metadata": {},
          "execution_count": 13
        }
      ]
    },
    {
      "cell_type": "code",
      "source": [
        "sns.countplot(x = 'MARRIAGE', hue = 'default payment next month', data = cc_df)"
      ],
      "metadata": {
        "colab": {
          "base_uri": "https://localhost:8080/",
          "height": 466
        },
        "id": "lFailiNfKK71",
        "outputId": "e55d6028-e8a9-466a-fdcd-216723e69594"
      },
      "execution_count": null,
      "outputs": [
        {
          "output_type": "execute_result",
          "data": {
            "text/plain": [
              "<Axes: xlabel='MARRIAGE', ylabel='count'>"
            ]
          },
          "metadata": {},
          "execution_count": 14
        },
        {
          "output_type": "display_data",
          "data": {
            "text/plain": [
              "<Figure size 640x480 with 1 Axes>"
            ],
            "image/png": "[encoded data removed]"
          },
          "metadata": {}
        }
      ]
    },
    {
      "cell_type": "markdown",
      "source": [
        "  Marriage columns represent the maritial status of the customer, for our convinience we are assuming \"1\" as married , \"2\" as single, \"0\" as not declared, \"3\" as others."
      ],
      "metadata": {
        "id": "EccazCrWXXkG"
      }
    },
    {
      "cell_type": "code",
      "source": [
        "bins = [0, 20, 30,40,50,60,70,80]\n",
        "Age_group=pd.cut(cc_df['AGE'], bins).value_counts()"
      ],
      "metadata": {
        "id": "4meFgnmKdghV"
      },
      "execution_count": null,
      "outputs": []
    },
    {
      "cell_type": "code",
      "source": [
        "cc_df['Age_group'] = pd.cut(cc_df['AGE'], bins)"
      ],
      "metadata": {
        "id": "-PfWWeXMYTnE"
      },
      "execution_count": null,
      "outputs": []
    },
    {
      "cell_type": "code",
      "source": [
        "sns.countplot(x = 'Age_group', hue = 'default payment next month', data = cc_df)\n"
      ],
      "metadata": {
        "colab": {
          "base_uri": "https://localhost:8080/",
          "height": 466
        },
        "id": "OAg_g_vJXkAL",
        "outputId": "73b1a19b-75a4-4b91-cd4e-332b1801d270"
      },
      "execution_count": null,
      "outputs": [
        {
          "output_type": "execute_result",
          "data": {
            "text/plain": [
              "<Axes: xlabel='Age_group', ylabel='count'>"
            ]
          },
          "metadata": {},
          "execution_count": 40
        },
        {
          "output_type": "display_data",
          "data": {
            "text/plain": [
              "<Figure size 640x480 with 1 Axes>"
            ],
            "image/png": "[encoded data removed]"
          },
          "metadata": {}
        }
      ]
    },
    {
      "cell_type": "code",
      "source": [
        "cc_df['LIMIT_BAL'].describe()"
      ],
      "metadata": {
        "colab": {
          "base_uri": "https://localhost:8080/"
        },
        "id": "lwJ0rvwSv5RQ",
        "outputId": "926af2db-2c1d-4617-a7e7-5298a3f60a15"
      },
      "execution_count": null,
      "outputs": [
        {
          "output_type": "execute_result",
          "data": {
            "text/plain": [
              "count      30000.000000\n",
              "mean      167484.322667\n",
              "std       129747.661567\n",
              "min        10000.000000\n",
              "25%        50000.000000\n",
              "50%       140000.000000\n",
              "75%       240000.000000\n",
              "max      1000000.000000\n",
              "Name: LIMIT_BAL, dtype: float64"
            ]
          },
          "metadata": {},
          "execution_count": 47
        }
      ]
    },
    {
      "cell_type": "code",
      "source": [
        "bins = [10000,50000,100000,500000,1000000]\n",
        "cc_df['limitbal_group']= pd.cut(cc_df['LIMIT_BAL'], bins)"
      ],
      "metadata": {
        "id": "uhK1bElRdBU-"
      },
      "execution_count": null,
      "outputs": []
    },
    {
      "cell_type": "code",
      "source": [
        "sns.countplot(x = 'limitbal_group', hue = 'default payment next month', data = cc_df)"
      ],
      "metadata": {
        "colab": {
          "base_uri": "https://localhost:8080/",
          "height": 467
        },
        "id": "ZVpmQ5ZCvWj1",
        "outputId": "d2a9b7ad-1cd2-475a-96e1-5fd8a8139a73"
      },
      "execution_count": null,
      "outputs": [
        {
          "output_type": "execute_result",
          "data": {
            "text/plain": [
              "<Axes: xlabel='limitbal_group', ylabel='count'>"
            ]
          },
          "metadata": {},
          "execution_count": 49
        },
        {
          "output_type": "display_data",
          "data": {
            "text/plain": [
              "<Figure size 640x480 with 1 Axes>"
            ],
            "image/png": "[encoded data removed]"
          },
          "metadata": {}
        }
      ]
    },
    {
      "cell_type": "code",
      "source": [
        "sns.catplot(data=cc_df,x=\"SEX\",y=\"LIMIT_BAL\",kind=\"box\")"
      ],
      "metadata": {
        "colab": {
          "base_uri": "https://localhost:8080/",
          "height": 523
        },
        "id": "aGJzZjEZW9PN",
        "outputId": "9ad36d8c-f33a-44b1-ad15-39ce67c79732"
      },
      "execution_count": null,
      "outputs": [
        {
          "output_type": "execute_result",
          "data": {
            "text/plain": [
              "<seaborn.axisgrid.FacetGrid at 0x7dff8d4673d0>"
            ]
          },
          "metadata": {},
          "execution_count": 6
        },
        {
          "output_type": "display_data",
          "data": {
            "text/plain": [
              "<Figure size 511.111x500 with 1 Axes>"
            ],
            "image/png": "[encoded data removed]"
          },
          "metadata": {}
        }
      ]
    },
    {
      "cell_type": "code",
      "source": [
        "sns.catplot(data=cc_df,x=\"MARRIAGE\",y=\"LIMIT_BAL\",kind=\"box\")"
      ],
      "metadata": {
        "colab": {
          "base_uri": "https://localhost:8080/",
          "height": 523
        },
        "id": "zAfAAmVSYITp",
        "outputId": "8b9f8ea3-6841-47cf-841a-c0011cc0790d"
      },
      "execution_count": null,
      "outputs": [
        {
          "output_type": "execute_result",
          "data": {
            "text/plain": [
              "<seaborn.axisgrid.FacetGrid at 0x7dff9202b8e0>"
            ]
          },
          "metadata": {},
          "execution_count": 7
        },
        {
          "output_type": "display_data",
          "data": {
            "text/plain": [
              "<Figure size 511.111x500 with 1 Axes>"
            ],
            "image/png": "[encoded data removed]"
          },
          "metadata": {}
        }
      ]
    },
    {
      "cell_type": "markdown",
      "source": [
        "## Model Building"
      ],
      "metadata": {
        "id": "p1-5wjH4Yzvv"
      }
    },
    {
      "cell_type": "code",
      "source": [
        "X= cc_df.drop(['default payment next month','ID'],axis=1)\n",
        "Y=cc_df['default payment next month']"
      ],
      "metadata": {
        "id": "_dDqWj9BbvFF"
      },
      "execution_count": null,
      "outputs": []
    },
    {
      "cell_type": "code",
      "source": [
        "X_train, X_test, Y_train, Y_test = train_test_split(X,Y,test_size = 0.25, random_state=1)"
      ],
      "metadata": {
        "id": "LmR2eAMBcOld"
      },
      "execution_count": null,
      "outputs": []
    },
    {
      "cell_type": "code",
      "source": [
        "X.shape, Y.shape"
      ],
      "metadata": {
        "colab": {
          "base_uri": "https://localhost:8080/"
        },
        "id": "2coPIyFDcaQr",
        "outputId": "fd38f4bc-ada8-46f3-a2cb-9b868ce0954e"
      },
      "execution_count": null,
      "outputs": [
        {
          "output_type": "execute_result",
          "data": {
            "text/plain": [
              "((30000, 23), (30000,))"
            ]
          },
          "metadata": {},
          "execution_count": 27
        }
      ]
    },
    {
      "cell_type": "code",
      "source": [
        "# Check the shape of train dataset\n",
        "print(X_train.shape,Y_train.shape)\n",
        "\n",
        "# Check the shape of test dataset\n",
        "print(X_test.shape, Y_test.shape)\n"
      ],
      "metadata": {
        "colab": {
          "base_uri": "https://localhost:8080/"
        },
        "id": "m-c1TG9ocmlX",
        "outputId": "759c56fc-45da-42c3-878e-c8cd62c1b798"
      },
      "execution_count": null,
      "outputs": [
        {
          "output_type": "stream",
          "name": "stdout",
          "text": [
            "(22500, 23) (22500,)\n",
            "(7500, 23) (7500,)\n"
          ]
        }
      ]
    },
    {
      "cell_type": "markdown",
      "source": [
        "1. XGB Classifier model"
      ],
      "metadata": {
        "id": "sI2D_sY2ZdyX"
      }
    },
    {
      "cell_type": "code",
      "source": [
        "from xgboost import XGBClassifier\n",
        "\n",
        "xgb_model = XGBClassifier().fit(X_train, Y_train)\n",
        "\n",
        "# predict\n",
        "xgb_Y_predict = xgb_model.predict(X_test)\n",
        "\n"
      ],
      "metadata": {
        "id": "rg-FCjRvZVGd"
      },
      "execution_count": null,
      "outputs": []
    },
    {
      "cell_type": "code",
      "source": [
        "print('ROCAUC score:', roc_auc_score(Y_test, xgb_Y_predict))"
      ],
      "metadata": {
        "colab": {
          "base_uri": "https://localhost:8080/"
        },
        "id": "gMikahbWZgw8",
        "outputId": "49a40c0e-3b22-46ae-f45a-d94c30f1362e"
      },
      "execution_count": null,
      "outputs": [
        {
          "output_type": "stream",
          "name": "stdout",
          "text": [
            "ROCAUC score: 0.6477108436707425\n"
          ]
        }
      ]
    },
    {
      "cell_type": "code",
      "source": [],
      "metadata": {
        "id": "8-SO8wYbniM-"
      },
      "execution_count": null,
      "outputs": []
    },
    {
      "cell_type": "code",
      "source": [
        "print('f1_score',f1_score(Y_test,xgb_Y_predict))"
      ],
      "metadata": {
        "colab": {
          "base_uri": "https://localhost:8080/"
        },
        "id": "MktdWdYXjQTj",
        "outputId": "ff6f8553-fc93-4145-c07f-d3b81a3e8962"
      },
      "execution_count": null,
      "outputs": [
        {
          "output_type": "stream",
          "name": "stdout",
          "text": [
            "f1_score 0.45429793854531314\n"
          ]
        }
      ]
    },
    {
      "cell_type": "markdown",
      "source": [
        "2 Random Forest classifier"
      ],
      "metadata": {
        "id": "cOMFidFAZmaG"
      }
    },
    {
      "cell_type": "code",
      "source": [
        "# Number of trees\n",
        "n_estimators = [50,80,100]\n",
        "\n",
        "# Maximum depth of trees\n",
        "max_depth = [4,6,8]\n",
        "\n",
        "# Minimum number of samples required to split a node\n",
        "min_samples_split = [50,100,150]\n",
        "\n",
        "# Minimum number of samples required at each leaf node\n",
        "min_samples_leaf = [40,50]\n",
        "\n",
        "# HYperparameter Grid\n",
        "param_dict = {'n_estimators' : n_estimators,\n",
        "              'max_depth' : max_depth,\n",
        "              'min_samples_split' : min_samples_split,\n",
        "              'min_samples_leaf' : min_samples_leaf}"
      ],
      "metadata": {
        "id": "y1dBtAYdcvGo"
      },
      "execution_count": null,
      "outputs": []
    },
    {
      "cell_type": "code",
      "source": [
        "rf_model = RandomForestClassifier()\n",
        "\n",
        "# Grid search\n",
        "rf_grid = GridSearchCV(estimator=rf_model,\n",
        "                       param_grid = param_dict,\n",
        "                       cv = 5, verbose=2, scoring='roc_auc')\n",
        "\n",
        "rf_grid.fit(X_train,Y_train)"
      ],
      "metadata": {
        "colab": {
          "base_uri": "https://localhost:8080/",
          "height": 1000
        },
        "id": "OzCo9Fkxc85h",
        "outputId": "398ee057-7766-400e-af18-eb86a16c2b68"
      },
      "execution_count": null,
      "outputs": [
        {
          "output_type": "stream",
          "name": "stdout",
          "text": [
            "Fitting 5 folds for each of 54 candidates, totalling 270 fits\n",
            "[CV] END max_depth=4, min_samples_leaf=40, min_samples_split=50, n_estimators=50; total time=   1.0s\n",
            "[CV] END max_depth=4, min_samples_leaf=40, min_samples_split=50, n_estimators=50; total time=   1.0s\n",
            "[CV] END max_depth=4, min_samples_leaf=40, min_samples_split=50, n_estimators=50; total time=   1.0s\n",
            "[CV] END max_depth=4, min_samples_leaf=40, min_samples_split=50, n_estimators=50; total time=   1.0s\n",
            "[CV] END max_depth=4, min_samples_leaf=40, min_samples_split=50, n_estimators=50; total time=   1.0s\n",
            "[CV] END max_depth=4, min_samples_leaf=40, min_samples_split=50, n_estimators=80; total time=   1.6s\n",
            "[CV] END max_depth=4, min_samples_leaf=40, min_samples_split=50, n_estimators=80; total time=   1.6s\n",
            "[CV] END max_depth=4, min_samples_leaf=40, min_samples_split=50, n_estimators=80; total time=   1.8s\n",
            "[CV] END max_depth=4, min_samples_leaf=40, min_samples_split=50, n_estimators=80; total time=   2.1s\n",
            "[CV] END max_depth=4, min_samples_leaf=40, min_samples_split=50, n_estimators=80; total time=   2.0s\n",
            "[CV] END max_depth=4, min_samples_leaf=40, min_samples_split=50, n_estimators=100; total time=   2.0s\n",
            "[CV] END max_depth=4, min_samples_leaf=40, min_samples_split=50, n_estimators=100; total time=   2.0s\n",
            "[CV] END max_depth=4, min_samples_leaf=40, min_samples_split=50, n_estimators=100; total time=   1.9s\n",
            "[CV] END max_depth=4, min_samples_leaf=40, min_samples_split=50, n_estimators=100; total time=   1.9s\n",
            "[CV] END max_depth=4, min_samples_leaf=40, min_samples_split=50, n_estimators=100; total time=   2.1s\n",
            "[CV] END max_depth=4, min_samples_leaf=40, min_samples_split=100, n_estimators=50; total time=   1.4s\n",
            "[CV] END max_depth=4, min_samples_leaf=40, min_samples_split=100, n_estimators=50; total time=   1.3s\n",
            "[CV] END max_depth=4, min_samples_leaf=40, min_samples_split=100, n_estimators=50; total time=   1.4s\n",
            "[CV] END max_depth=4, min_samples_leaf=40, min_samples_split=100, n_estimators=50; total time=   1.1s\n",
            "[CV] END max_depth=4, min_samples_leaf=40, min_samples_split=100, n_estimators=50; total time=   1.0s\n",
            "[CV] END max_depth=4, min_samples_leaf=40, min_samples_split=100, n_estimators=80; total time=   1.6s\n",
            "[CV] END max_depth=4, min_samples_leaf=40, min_samples_split=100, n_estimators=80; total time=   1.6s\n",
            "[CV] END max_depth=4, min_samples_leaf=40, min_samples_split=100, n_estimators=80; total time=   1.5s\n",
            "[CV] END max_depth=4, min_samples_leaf=40, min_samples_split=100, n_estimators=80; total time=   1.5s\n",
            "[CV] END max_depth=4, min_samples_leaf=40, min_samples_split=100, n_estimators=80; total time=   1.5s\n",
            "[CV] END max_depth=4, min_samples_leaf=40, min_samples_split=100, n_estimators=100; total time=   2.5s\n",
            "[CV] END max_depth=4, min_samples_leaf=40, min_samples_split=100, n_estimators=100; total time=   2.7s\n",
            "[CV] END max_depth=4, min_samples_leaf=40, min_samples_split=100, n_estimators=100; total time=   2.0s\n",
            "[CV] END max_depth=4, min_samples_leaf=40, min_samples_split=100, n_estimators=100; total time=   1.9s\n",
            "[CV] END max_depth=4, min_samples_leaf=40, min_samples_split=100, n_estimators=100; total time=   1.9s\n",
            "[CV] END max_depth=4, min_samples_leaf=40, min_samples_split=150, n_estimators=50; total time=   1.0s\n",
            "[CV] END max_depth=4, min_samples_leaf=40, min_samples_split=150, n_estimators=50; total time=   1.0s\n",
            "[CV] END max_depth=4, min_samples_leaf=40, min_samples_split=150, n_estimators=50; total time=   0.9s\n",
            "[CV] END max_depth=4, min_samples_leaf=40, min_samples_split=150, n_estimators=50; total time=   0.9s\n",
            "[CV] END max_depth=4, min_samples_leaf=40, min_samples_split=150, n_estimators=50; total time=   1.2s\n",
            "[CV] END max_depth=4, min_samples_leaf=40, min_samples_split=150, n_estimators=80; total time=   2.2s\n",
            "[CV] END max_depth=4, min_samples_leaf=40, min_samples_split=150, n_estimators=80; total time=   2.7s\n",
            "[CV] END max_depth=4, min_samples_leaf=40, min_samples_split=150, n_estimators=80; total time=   1.5s\n",
            "[CV] END max_depth=4, min_samples_leaf=40, min_samples_split=150, n_estimators=80; total time=   1.6s\n",
            "[CV] END max_depth=4, min_samples_leaf=40, min_samples_split=150, n_estimators=80; total time=   1.6s\n",
            "[CV] END max_depth=4, min_samples_leaf=40, min_samples_split=150, n_estimators=100; total time=   2.5s\n",
            "[CV] END max_depth=4, min_samples_leaf=40, min_samples_split=150, n_estimators=100; total time=   2.1s\n",
            "[CV] END max_depth=4, min_samples_leaf=40, min_samples_split=150, n_estimators=100; total time=   2.6s\n",
            "[CV] END max_depth=4, min_samples_leaf=40, min_samples_split=150, n_estimators=100; total time=   2.4s\n",
            "[CV] END max_depth=4, min_samples_leaf=40, min_samples_split=150, n_estimators=100; total time=   1.9s\n",
            "[CV] END max_depth=4, min_samples_leaf=50, min_samples_split=50, n_estimators=50; total time=   1.0s\n",
            "[CV] END max_depth=4, min_samples_leaf=50, min_samples_split=50, n_estimators=50; total time=   1.0s\n",
            "[CV] END max_depth=4, min_samples_leaf=50, min_samples_split=50, n_estimators=50; total time=   1.0s\n",
            "[CV] END max_depth=4, min_samples_leaf=50, min_samples_split=50, n_estimators=50; total time=   1.0s\n",
            "[CV] END max_depth=4, min_samples_leaf=50, min_samples_split=50, n_estimators=50; total time=   1.0s\n",
            "[CV] END max_depth=4, min_samples_leaf=50, min_samples_split=50, n_estimators=80; total time=   1.6s\n",
            "[CV] END max_depth=4, min_samples_leaf=50, min_samples_split=50, n_estimators=80; total time=   1.8s\n",
            "[CV] END max_depth=4, min_samples_leaf=50, min_samples_split=50, n_estimators=80; total time=   2.2s\n",
            "[CV] END max_depth=4, min_samples_leaf=50, min_samples_split=50, n_estimators=80; total time=   2.0s\n",
            "[CV] END max_depth=4, min_samples_leaf=50, min_samples_split=50, n_estimators=80; total time=   1.5s\n",
            "[CV] END max_depth=4, min_samples_leaf=50, min_samples_split=50, n_estimators=100; total time=   1.9s\n",
            "[CV] END max_depth=4, min_samples_leaf=50, min_samples_split=50, n_estimators=100; total time=   1.9s\n",
            "[CV] END max_depth=4, min_samples_leaf=50, min_samples_split=50, n_estimators=100; total time=   2.0s\n",
            "[CV] END max_depth=4, min_samples_leaf=50, min_samples_split=50, n_estimators=100; total time=   1.9s\n",
            "[CV] END max_depth=4, min_samples_leaf=50, min_samples_split=50, n_estimators=100; total time=   2.6s\n",
            "[CV] END max_depth=4, min_samples_leaf=50, min_samples_split=100, n_estimators=50; total time=   1.4s\n",
            "[CV] END max_depth=4, min_samples_leaf=50, min_samples_split=100, n_estimators=50; total time=   1.2s\n",
            "[CV] END max_depth=4, min_samples_leaf=50, min_samples_split=100, n_estimators=50; total time=   1.0s\n",
            "[CV] END max_depth=4, min_samples_leaf=50, min_samples_split=100, n_estimators=50; total time=   1.0s\n",
            "[CV] END max_depth=4, min_samples_leaf=50, min_samples_split=100, n_estimators=50; total time=   1.0s\n",
            "[CV] END max_depth=4, min_samples_leaf=50, min_samples_split=100, n_estimators=80; total time=   1.6s\n",
            "[CV] END max_depth=4, min_samples_leaf=50, min_samples_split=100, n_estimators=80; total time=   1.5s\n",
            "[CV] END max_depth=4, min_samples_leaf=50, min_samples_split=100, n_estimators=80; total time=   1.6s\n",
            "[CV] END max_depth=4, min_samples_leaf=50, min_samples_split=100, n_estimators=80; total time=   1.5s\n",
            "[CV] END max_depth=4, min_samples_leaf=50, min_samples_split=100, n_estimators=80; total time=   1.9s\n",
            "[CV] END max_depth=4, min_samples_leaf=50, min_samples_split=100, n_estimators=100; total time=   2.7s\n",
            "[CV] END max_depth=4, min_samples_leaf=50, min_samples_split=100, n_estimators=100; total time=   2.1s\n",
            "[CV] END max_depth=4, min_samples_leaf=50, min_samples_split=100, n_estimators=100; total time=   2.0s\n",
            "[CV] END max_depth=4, min_samples_leaf=50, min_samples_split=100, n_estimators=100; total time=   1.9s\n",
            "[CV] END max_depth=4, min_samples_leaf=50, min_samples_split=100, n_estimators=100; total time=   1.9s\n",
            "[CV] END max_depth=4, min_samples_leaf=50, min_samples_split=150, n_estimators=50; total time=   1.0s\n",
            "[CV] END max_depth=4, min_samples_leaf=50, min_samples_split=150, n_estimators=50; total time=   1.0s\n",
            "[CV] END max_depth=4, min_samples_leaf=50, min_samples_split=150, n_estimators=50; total time=   1.2s\n",
            "[CV] END max_depth=4, min_samples_leaf=50, min_samples_split=150, n_estimators=50; total time=   1.4s\n",
            "[CV] END max_depth=4, min_samples_leaf=50, min_samples_split=150, n_estimators=50; total time=   1.4s\n",
            "[CV] END max_depth=4, min_samples_leaf=50, min_samples_split=150, n_estimators=80; total time=   1.9s\n",
            "[CV] END max_depth=4, min_samples_leaf=50, min_samples_split=150, n_estimators=80; total time=   1.6s\n",
            "[CV] END max_depth=4, min_samples_leaf=50, min_samples_split=150, n_estimators=80; total time=   1.6s\n",
            "[CV] END max_depth=4, min_samples_leaf=50, min_samples_split=150, n_estimators=80; total time=   1.5s\n",
            "[CV] END max_depth=4, min_samples_leaf=50, min_samples_split=150, n_estimators=80; total time=   1.5s\n",
            "[CV] END max_depth=4, min_samples_leaf=50, min_samples_split=150, n_estimators=100; total time=   2.0s\n",
            "[CV] END max_depth=4, min_samples_leaf=50, min_samples_split=150, n_estimators=100; total time=   2.1s\n",
            "[CV] END max_depth=4, min_samples_leaf=50, min_samples_split=150, n_estimators=100; total time=   2.8s\n",
            "[CV] END max_depth=4, min_samples_leaf=50, min_samples_split=150, n_estimators=100; total time=   2.9s\n",
            "[CV] END max_depth=4, min_samples_leaf=50, min_samples_split=150, n_estimators=100; total time=   2.7s\n",
            "[CV] END max_depth=6, min_samples_leaf=40, min_samples_split=50, n_estimators=50; total time=   1.4s\n",
            "[CV] END max_depth=6, min_samples_leaf=40, min_samples_split=50, n_estimators=50; total time=   1.4s\n",
            "[CV] END max_depth=6, min_samples_leaf=40, min_samples_split=50, n_estimators=50; total time=   1.4s\n",
            "[CV] END max_depth=6, min_samples_leaf=40, min_samples_split=50, n_estimators=50; total time=   1.4s\n",
            "[CV] END max_depth=6, min_samples_leaf=40, min_samples_split=50, n_estimators=50; total time=   1.3s\n",
            "[CV] END max_depth=6, min_samples_leaf=40, min_samples_split=50, n_estimators=80; total time=   2.9s\n",
            "[CV] END max_depth=6, min_samples_leaf=40, min_samples_split=50, n_estimators=80; total time=   2.7s\n",
            "[CV] END max_depth=6, min_samples_leaf=40, min_samples_split=50, n_estimators=80; total time=   2.1s\n",
            "[CV] END max_depth=6, min_samples_leaf=40, min_samples_split=50, n_estimators=80; total time=   2.1s\n",
            "[CV] END max_depth=6, min_samples_leaf=40, min_samples_split=50, n_estimators=80; total time=   2.1s\n",
            "[CV] END max_depth=6, min_samples_leaf=40, min_samples_split=50, n_estimators=100; total time=   2.6s\n",
            "[CV] END max_depth=6, min_samples_leaf=40, min_samples_split=50, n_estimators=100; total time=   3.6s\n",
            "[CV] END max_depth=6, min_samples_leaf=40, min_samples_split=50, n_estimators=100; total time=   3.0s\n",
            "[CV] END max_depth=6, min_samples_leaf=40, min_samples_split=50, n_estimators=100; total time=   2.7s\n",
            "[CV] END max_depth=6, min_samples_leaf=40, min_samples_split=50, n_estimators=100; total time=   2.6s\n",
            "[CV] END max_depth=6, min_samples_leaf=40, min_samples_split=100, n_estimators=50; total time=   1.3s\n",
            "[CV] END max_depth=6, min_samples_leaf=40, min_samples_split=100, n_estimators=50; total time=   1.4s\n",
            "[CV] END max_depth=6, min_samples_leaf=40, min_samples_split=100, n_estimators=50; total time=   1.8s\n",
            "[CV] END max_depth=6, min_samples_leaf=40, min_samples_split=100, n_estimators=50; total time=   1.8s\n",
            "[CV] END max_depth=6, min_samples_leaf=40, min_samples_split=100, n_estimators=50; total time=   1.6s\n",
            "[CV] END max_depth=6, min_samples_leaf=40, min_samples_split=100, n_estimators=80; total time=   2.1s\n",
            "[CV] END max_depth=6, min_samples_leaf=40, min_samples_split=100, n_estimators=80; total time=   2.1s\n",
            "[CV] END max_depth=6, min_samples_leaf=40, min_samples_split=100, n_estimators=80; total time=   2.1s\n",
            "[CV] END max_depth=6, min_samples_leaf=40, min_samples_split=100, n_estimators=80; total time=   2.1s\n",
            "[CV] END max_depth=6, min_samples_leaf=40, min_samples_split=100, n_estimators=80; total time=   2.5s\n",
            "[CV] END max_depth=6, min_samples_leaf=40, min_samples_split=100, n_estimators=100; total time=   3.5s\n",
            "[CV] END max_depth=6, min_samples_leaf=40, min_samples_split=100, n_estimators=100; total time=   2.6s\n",
            "[CV] END max_depth=6, min_samples_leaf=40, min_samples_split=100, n_estimators=100; total time=   2.7s\n",
            "[CV] END max_depth=6, min_samples_leaf=40, min_samples_split=100, n_estimators=100; total time=   2.6s\n",
            "[CV] END max_depth=6, min_samples_leaf=40, min_samples_split=100, n_estimators=100; total time=   3.0s\n",
            "[CV] END max_depth=6, min_samples_leaf=40, min_samples_split=150, n_estimators=50; total time=   1.8s\n",
            "[CV] END max_depth=6, min_samples_leaf=40, min_samples_split=150, n_estimators=50; total time=   1.7s\n",
            "[CV] END max_depth=6, min_samples_leaf=40, min_samples_split=150, n_estimators=50; total time=   1.3s\n",
            "[CV] END max_depth=6, min_samples_leaf=40, min_samples_split=150, n_estimators=50; total time=   1.3s\n",
            "[CV] END max_depth=6, min_samples_leaf=40, min_samples_split=150, n_estimators=50; total time=   1.3s\n",
            "[CV] END max_depth=6, min_samples_leaf=40, min_samples_split=150, n_estimators=80; total time=   2.1s\n",
            "[CV] END max_depth=6, min_samples_leaf=40, min_samples_split=150, n_estimators=80; total time=   2.1s\n",
            "[CV] END max_depth=6, min_samples_leaf=40, min_samples_split=150, n_estimators=80; total time=   2.3s\n",
            "[CV] END max_depth=6, min_samples_leaf=40, min_samples_split=150, n_estimators=80; total time=   2.9s\n",
            "[CV] END max_depth=6, min_samples_leaf=40, min_samples_split=150, n_estimators=80; total time=   2.4s\n",
            "[CV] END max_depth=6, min_samples_leaf=40, min_samples_split=150, n_estimators=100; total time=   2.6s\n",
            "[CV] END max_depth=6, min_samples_leaf=40, min_samples_split=150, n_estimators=100; total time=   2.6s\n",
            "[CV] END max_depth=6, min_samples_leaf=40, min_samples_split=150, n_estimators=100; total time=   2.6s\n",
            "[CV] END max_depth=6, min_samples_leaf=40, min_samples_split=150, n_estimators=100; total time=   3.3s\n",
            "[CV] END max_depth=6, min_samples_leaf=40, min_samples_split=150, n_estimators=100; total time=   3.1s\n",
            "[CV] END max_depth=6, min_samples_leaf=50, min_samples_split=50, n_estimators=50; total time=   1.3s\n",
            "[CV] END max_depth=6, min_samples_leaf=50, min_samples_split=50, n_estimators=50; total time=   1.3s\n",
            "[CV] END max_depth=6, min_samples_leaf=50, min_samples_split=50, n_estimators=50; total time=   1.4s\n",
            "[CV] END max_depth=6, min_samples_leaf=50, min_samples_split=50, n_estimators=50; total time=   1.3s\n",
            "[CV] END max_depth=6, min_samples_leaf=50, min_samples_split=50, n_estimators=50; total time=   1.4s\n",
            "[CV] END max_depth=6, min_samples_leaf=50, min_samples_split=50, n_estimators=80; total time=   2.1s\n",
            "[CV] END max_depth=6, min_samples_leaf=50, min_samples_split=50, n_estimators=80; total time=   2.9s\n",
            "[CV] END max_depth=6, min_samples_leaf=50, min_samples_split=50, n_estimators=80; total time=   2.6s\n",
            "[CV] END max_depth=6, min_samples_leaf=50, min_samples_split=50, n_estimators=80; total time=   2.1s\n",
            "[CV] END max_depth=6, min_samples_leaf=50, min_samples_split=50, n_estimators=80; total time=   2.0s\n",
            "[CV] END max_depth=6, min_samples_leaf=50, min_samples_split=50, n_estimators=100; total time=   2.6s\n",
            "[CV] END max_depth=6, min_samples_leaf=50, min_samples_split=50, n_estimators=100; total time=   2.8s\n",
            "[CV] END max_depth=6, min_samples_leaf=50, min_samples_split=50, n_estimators=100; total time=   3.7s\n",
            "[CV] END max_depth=6, min_samples_leaf=50, min_samples_split=50, n_estimators=100; total time=   2.6s\n",
            "[CV] END max_depth=6, min_samples_leaf=50, min_samples_split=50, n_estimators=100; total time=   2.6s\n",
            "[CV] END max_depth=6, min_samples_leaf=50, min_samples_split=100, n_estimators=50; total time=   1.3s\n",
            "[CV] END max_depth=6, min_samples_leaf=50, min_samples_split=100, n_estimators=50; total time=   1.3s\n",
            "[CV] END max_depth=6, min_samples_leaf=50, min_samples_split=100, n_estimators=50; total time=   1.4s\n",
            "[CV] END max_depth=6, min_samples_leaf=50, min_samples_split=100, n_estimators=50; total time=   1.5s\n",
            "[CV] END max_depth=6, min_samples_leaf=50, min_samples_split=100, n_estimators=50; total time=   1.8s\n",
            "[CV] END max_depth=6, min_samples_leaf=50, min_samples_split=100, n_estimators=80; total time=   2.6s\n",
            "[CV] END max_depth=6, min_samples_leaf=50, min_samples_split=100, n_estimators=80; total time=   2.1s\n",
            "[CV] END max_depth=6, min_samples_leaf=50, min_samples_split=100, n_estimators=80; total time=   2.1s\n",
            "[CV] END max_depth=6, min_samples_leaf=50, min_samples_split=100, n_estimators=80; total time=   2.1s\n",
            "[CV] END max_depth=6, min_samples_leaf=50, min_samples_split=100, n_estimators=80; total time=   2.1s\n",
            "[CV] END max_depth=6, min_samples_leaf=50, min_samples_split=100, n_estimators=100; total time=   3.2s\n",
            "[CV] END max_depth=6, min_samples_leaf=50, min_samples_split=100, n_estimators=100; total time=   3.2s\n",
            "[CV] END max_depth=6, min_samples_leaf=50, min_samples_split=100, n_estimators=100; total time=   2.6s\n",
            "[CV] END max_depth=6, min_samples_leaf=50, min_samples_split=100, n_estimators=100; total time=   2.9s\n",
            "[CV] END max_depth=6, min_samples_leaf=50, min_samples_split=100, n_estimators=100; total time=   3.7s\n",
            "[CV] END max_depth=6, min_samples_leaf=50, min_samples_split=150, n_estimators=50; total time=   1.8s\n",
            "[CV] END max_depth=6, min_samples_leaf=50, min_samples_split=150, n_estimators=50; total time=   1.8s\n",
            "[CV] END max_depth=6, min_samples_leaf=50, min_samples_split=150, n_estimators=50; total time=   1.5s\n",
            "[CV] END max_depth=6, min_samples_leaf=50, min_samples_split=150, n_estimators=50; total time=   1.3s\n",
            "[CV] END max_depth=6, min_samples_leaf=50, min_samples_split=150, n_estimators=50; total time=   1.3s\n",
            "[CV] END max_depth=6, min_samples_leaf=50, min_samples_split=150, n_estimators=80; total time=   2.1s\n",
            "[CV] END max_depth=6, min_samples_leaf=50, min_samples_split=150, n_estimators=80; total time=   2.1s\n",
            "[CV] END max_depth=6, min_samples_leaf=50, min_samples_split=150, n_estimators=80; total time=   2.1s\n",
            "[CV] END max_depth=6, min_samples_leaf=50, min_samples_split=150, n_estimators=80; total time=   2.7s\n",
            "[CV] END max_depth=6, min_samples_leaf=50, min_samples_split=150, n_estimators=80; total time=   2.7s\n",
            "[CV] END max_depth=6, min_samples_leaf=50, min_samples_split=150, n_estimators=100; total time=   2.6s\n",
            "[CV] END max_depth=6, min_samples_leaf=50, min_samples_split=150, n_estimators=100; total time=   2.7s\n",
            "[CV] END max_depth=6, min_samples_leaf=50, min_samples_split=150, n_estimators=100; total time=   2.6s\n",
            "[CV] END max_depth=6, min_samples_leaf=50, min_samples_split=150, n_estimators=100; total time=   2.9s\n",
            "[CV] END max_depth=6, min_samples_leaf=50, min_samples_split=150, n_estimators=100; total time=   3.5s\n",
            "[CV] END max_depth=8, min_samples_leaf=40, min_samples_split=50, n_estimators=50; total time=   1.6s\n",
            "[CV] END max_depth=8, min_samples_leaf=40, min_samples_split=50, n_estimators=50; total time=   1.7s\n",
            "[CV] END max_depth=8, min_samples_leaf=40, min_samples_split=50, n_estimators=50; total time=   1.6s\n",
            "[CV] END max_depth=8, min_samples_leaf=40, min_samples_split=50, n_estimators=50; total time=   1.6s\n",
            "[CV] END max_depth=8, min_samples_leaf=40, min_samples_split=50, n_estimators=50; total time=   1.6s\n",
            "[CV] END max_depth=8, min_samples_leaf=40, min_samples_split=50, n_estimators=80; total time=   3.0s\n",
            "[CV] END max_depth=8, min_samples_leaf=40, min_samples_split=50, n_estimators=80; total time=   3.5s\n",
            "[CV] END max_depth=8, min_samples_leaf=40, min_samples_split=50, n_estimators=80; total time=   2.6s\n",
            "[CV] END max_depth=8, min_samples_leaf=40, min_samples_split=50, n_estimators=80; total time=   2.6s\n",
            "[CV] END max_depth=8, min_samples_leaf=40, min_samples_split=50, n_estimators=80; total time=   2.6s\n",
            "[CV] END max_depth=8, min_samples_leaf=40, min_samples_split=50, n_estimators=100; total time=   3.8s\n",
            "[CV] END max_depth=8, min_samples_leaf=40, min_samples_split=50, n_estimators=100; total time=   4.0s\n",
            "[CV] END max_depth=8, min_samples_leaf=40, min_samples_split=50, n_estimators=100; total time=   3.3s\n",
            "[CV] END max_depth=8, min_samples_leaf=40, min_samples_split=50, n_estimators=100; total time=   3.2s\n",
            "[CV] END max_depth=8, min_samples_leaf=40, min_samples_split=50, n_estimators=100; total time=   3.6s\n",
            "[CV] END max_depth=8, min_samples_leaf=40, min_samples_split=100, n_estimators=50; total time=   2.3s\n",
            "[CV] END max_depth=8, min_samples_leaf=40, min_samples_split=100, n_estimators=50; total time=   1.9s\n",
            "[CV] END max_depth=8, min_samples_leaf=40, min_samples_split=100, n_estimators=50; total time=   1.6s\n",
            "[CV] END max_depth=8, min_samples_leaf=40, min_samples_split=100, n_estimators=50; total time=   1.7s\n",
            "[CV] END max_depth=8, min_samples_leaf=40, min_samples_split=100, n_estimators=50; total time=   1.6s\n",
            "[CV] END max_depth=8, min_samples_leaf=40, min_samples_split=100, n_estimators=80; total time=   2.6s\n",
            "[CV] END max_depth=8, min_samples_leaf=40, min_samples_split=100, n_estimators=80; total time=   2.9s\n",
            "[CV] END max_depth=8, min_samples_leaf=40, min_samples_split=100, n_estimators=80; total time=   3.4s\n",
            "[CV] END max_depth=8, min_samples_leaf=40, min_samples_split=100, n_estimators=80; total time=   3.5s\n",
            "[CV] END max_depth=8, min_samples_leaf=40, min_samples_split=100, n_estimators=80; total time=   3.0s\n",
            "[CV] END max_depth=8, min_samples_leaf=40, min_samples_split=100, n_estimators=100; total time=   3.2s\n",
            "[CV] END max_depth=8, min_samples_leaf=40, min_samples_split=100, n_estimators=100; total time=   4.4s\n",
            "[CV] END max_depth=8, min_samples_leaf=40, min_samples_split=100, n_estimators=100; total time=   3.3s\n",
            "[CV] END max_depth=8, min_samples_leaf=40, min_samples_split=100, n_estimators=100; total time=   3.3s\n",
            "[CV] END max_depth=8, min_samples_leaf=40, min_samples_split=100, n_estimators=100; total time=   3.2s\n",
            "[CV] END max_depth=8, min_samples_leaf=40, min_samples_split=150, n_estimators=50; total time=   2.1s\n",
            "[CV] END max_depth=8, min_samples_leaf=40, min_samples_split=150, n_estimators=50; total time=   2.2s\n",
            "[CV] END max_depth=8, min_samples_leaf=40, min_samples_split=150, n_estimators=50; total time=   1.7s\n",
            "[CV] END max_depth=8, min_samples_leaf=40, min_samples_split=150, n_estimators=50; total time=   1.6s\n",
            "[CV] END max_depth=8, min_samples_leaf=40, min_samples_split=150, n_estimators=50; total time=   1.6s\n",
            "[CV] END max_depth=8, min_samples_leaf=40, min_samples_split=150, n_estimators=80; total time=   2.6s\n",
            "[CV] END max_depth=8, min_samples_leaf=40, min_samples_split=150, n_estimators=80; total time=   2.6s\n",
            "[CV] END max_depth=8, min_samples_leaf=40, min_samples_split=150, n_estimators=80; total time=   3.4s\n",
            "[CV] END max_depth=8, min_samples_leaf=40, min_samples_split=150, n_estimators=80; total time=   2.9s\n",
            "[CV] END max_depth=8, min_samples_leaf=40, min_samples_split=150, n_estimators=80; total time=   2.5s\n",
            "[CV] END max_depth=8, min_samples_leaf=40, min_samples_split=150, n_estimators=100; total time=   3.2s\n",
            "[CV] END max_depth=8, min_samples_leaf=40, min_samples_split=150, n_estimators=100; total time=   3.5s\n",
            "[CV] END max_depth=8, min_samples_leaf=40, min_samples_split=150, n_estimators=100; total time=   4.2s\n",
            "[CV] END max_depth=8, min_samples_leaf=40, min_samples_split=150, n_estimators=100; total time=   3.2s\n",
            "[CV] END max_depth=8, min_samples_leaf=40, min_samples_split=150, n_estimators=100; total time=   3.2s\n",
            "[CV] END max_depth=8, min_samples_leaf=50, min_samples_split=50, n_estimators=50; total time=   1.6s\n",
            "[CV] END max_depth=8, min_samples_leaf=50, min_samples_split=50, n_estimators=50; total time=   1.7s\n",
            "[CV] END max_depth=8, min_samples_leaf=50, min_samples_split=50, n_estimators=50; total time=   2.3s\n",
            "[CV] END max_depth=8, min_samples_leaf=50, min_samples_split=50, n_estimators=50; total time=   2.3s\n",
            "[CV] END max_depth=8, min_samples_leaf=50, min_samples_split=50, n_estimators=50; total time=   2.2s\n",
            "[CV] END max_depth=8, min_samples_leaf=50, min_samples_split=50, n_estimators=80; total time=   3.2s\n",
            "[CV] END max_depth=8, min_samples_leaf=50, min_samples_split=50, n_estimators=80; total time=   2.6s\n",
            "[CV] END max_depth=8, min_samples_leaf=50, min_samples_split=50, n_estimators=80; total time=   2.9s\n",
            "[CV] END max_depth=8, min_samples_leaf=50, min_samples_split=50, n_estimators=80; total time=   3.5s\n",
            "[CV] END max_depth=8, min_samples_leaf=50, min_samples_split=50, n_estimators=80; total time=   2.6s\n",
            "[CV] END max_depth=8, min_samples_leaf=50, min_samples_split=50, n_estimators=100; total time=   3.2s\n",
            "[CV] END max_depth=8, min_samples_leaf=50, min_samples_split=50, n_estimators=100; total time=   3.2s\n",
            "[CV] END max_depth=8, min_samples_leaf=50, min_samples_split=50, n_estimators=100; total time=   4.1s\n",
            "[CV] END max_depth=8, min_samples_leaf=50, min_samples_split=50, n_estimators=100; total time=   3.7s\n",
            "[CV] END max_depth=8, min_samples_leaf=50, min_samples_split=50, n_estimators=100; total time=   3.2s\n",
            "[CV] END max_depth=8, min_samples_leaf=50, min_samples_split=100, n_estimators=50; total time=   1.7s\n",
            "[CV] END max_depth=8, min_samples_leaf=50, min_samples_split=100, n_estimators=50; total time=   1.6s\n",
            "[CV] END max_depth=8, min_samples_leaf=50, min_samples_split=100, n_estimators=50; total time=   1.8s\n",
            "[CV] END max_depth=8, min_samples_leaf=50, min_samples_split=100, n_estimators=50; total time=   2.2s\n",
            "[CV] END max_depth=8, min_samples_leaf=50, min_samples_split=100, n_estimators=50; total time=   2.2s\n",
            "[CV] END max_depth=8, min_samples_leaf=50, min_samples_split=100, n_estimators=80; total time=   2.6s\n",
            "[CV] END max_depth=8, min_samples_leaf=50, min_samples_split=100, n_estimators=80; total time=   2.6s\n",
            "[CV] END max_depth=8, min_samples_leaf=50, min_samples_split=100, n_estimators=80; total time=   2.6s\n",
            "[CV] END max_depth=8, min_samples_leaf=50, min_samples_split=100, n_estimators=80; total time=   2.8s\n",
            "[CV] END max_depth=8, min_samples_leaf=50, min_samples_split=100, n_estimators=80; total time=   3.5s\n",
            "[CV] END max_depth=8, min_samples_leaf=50, min_samples_split=100, n_estimators=100; total time=   3.2s\n",
            "[CV] END max_depth=8, min_samples_leaf=50, min_samples_split=100, n_estimators=100; total time=   3.3s\n",
            "[CV] END max_depth=8, min_samples_leaf=50, min_samples_split=100, n_estimators=100; total time=   3.3s\n",
            "[CV] END max_depth=8, min_samples_leaf=50, min_samples_split=100, n_estimators=100; total time=   4.3s\n",
            "[CV] END max_depth=8, min_samples_leaf=50, min_samples_split=100, n_estimators=100; total time=   3.3s\n",
            "[CV] END max_depth=8, min_samples_leaf=50, min_samples_split=150, n_estimators=50; total time=   1.6s\n",
            "[CV] END max_depth=8, min_samples_leaf=50, min_samples_split=150, n_estimators=50; total time=   1.6s\n",
            "[CV] END max_depth=8, min_samples_leaf=50, min_samples_split=150, n_estimators=50; total time=   1.6s\n",
            "[CV] END max_depth=8, min_samples_leaf=50, min_samples_split=150, n_estimators=50; total time=   1.6s\n",
            "[CV] END max_depth=8, min_samples_leaf=50, min_samples_split=150, n_estimators=50; total time=   1.9s\n",
            "[CV] END max_depth=8, min_samples_leaf=50, min_samples_split=150, n_estimators=80; total time=   3.5s\n",
            "[CV] END max_depth=8, min_samples_leaf=50, min_samples_split=150, n_estimators=80; total time=   2.6s\n",
            "[CV] END max_depth=8, min_samples_leaf=50, min_samples_split=150, n_estimators=80; total time=   2.6s\n",
            "[CV] END max_depth=8, min_samples_leaf=50, min_samples_split=150, n_estimators=80; total time=   2.6s\n",
            "[CV] END max_depth=8, min_samples_leaf=50, min_samples_split=150, n_estimators=80; total time=   2.7s\n",
            "[CV] END max_depth=8, min_samples_leaf=50, min_samples_split=150, n_estimators=100; total time=   4.3s\n",
            "[CV] END max_depth=8, min_samples_leaf=50, min_samples_split=150, n_estimators=100; total time=   3.2s\n",
            "[CV] END max_depth=8, min_samples_leaf=50, min_samples_split=150, n_estimators=100; total time=   3.2s\n",
            "[CV] END max_depth=8, min_samples_leaf=50, min_samples_split=150, n_estimators=100; total time=   3.2s\n",
            "[CV] END max_depth=8, min_samples_leaf=50, min_samples_split=150, n_estimators=100; total time=   4.3s\n"
          ]
        },
        {
          "output_type": "execute_result",
          "data": {
            "text/plain": [
              "GridSearchCV(cv=5, estimator=RandomForestClassifier(),\n",
              "             param_grid={'max_depth': [4, 6, 8], 'min_samples_leaf': [40, 50],\n",
              "                         'min_samples_split': [50, 100, 150],\n",
              "                         'n_estimators': [50, 80, 100]},\n",
              "             scoring='roc_auc', verbose=2)"
            ],
            "text/html": [
              "<style>#sk-container-id-1 {color: black;}#sk-container-id-1 pre{padding: 0;}#sk-container-id-1 div.sk-toggleable {background-color: white;}#sk-container-id-1 label.sk-toggleable__label {cursor: pointer;display: block;width: 100%;margin-bottom: 0;padding: 0.3em;box-sizing: border-box;text-align: center;}#sk-container-id-1 label.sk-toggleable__label-arrow:before {content: \"▸\";float: left;margin-right: 0.25em;color: #696969;}#sk-container-id-1 label.sk-toggleable__label-arrow:hover:before {color: black;}#sk-container-id-1 div.sk-estimator:hover label.sk-toggleable__label-arrow:before {color: black;}#sk-container-id-1 div.sk-toggleable__content {max-height: 0;max-width: 0;overflow: hidden;text-align: left;background-color: #f0f8ff;}#sk-container-id-1 div.sk-toggleable__content pre {margin: 0.2em;color: black;border-radius: 0.25em;background-color: #f0f8ff;}#sk-container-id-1 input.sk-toggleable__control:checked~div.sk-toggleable__content {max-height: 200px;max-width: 100%;overflow: auto;}#sk-container-id-1 input.sk-toggleable__control:checked~label.sk-toggleable__label-arrow:before {content: \"▾\";}#sk-container-id-1 div.sk-estimator input.sk-toggleable__control:checked~label.sk-toggleable__label {background-color: #d4ebff;}#sk-container-id-1 div.sk-label input.sk-toggleable__control:checked~label.sk-toggleable__label {background-color: #d4ebff;}#sk-container-id-1 input.sk-hidden--visually {border: 0;clip: rect(1px 1px 1px 1px);clip: rect(1px, 1px, 1px, 1px);height: 1px;margin: -1px;overflow: hidden;padding: 0;position: absolute;width: 1px;}#sk-container-id-1 div.sk-estimator {font-family: monospace;background-color: #f0f8ff;border: 1px dotted black;border-radius: 0.25em;box-sizing: border-box;margin-bottom: 0.5em;}#sk-container-id-1 div.sk-estimator:hover {background-color: #d4ebff;}#sk-container-id-1 div.sk-parallel-item::after {content: \"\";width: 100%;border-bottom: 1px solid gray;flex-grow: 1;}#sk-container-id-1 div.sk-label:hover label.sk-toggleable__label {background-color: #d4ebff;}#sk-container-id-1 div.sk-serial::before {content: \"\";position: absolute;border-left: 1px solid gray;box-sizing: border-box;top: 0;bottom: 0;left: 50%;z-index: 0;}#sk-container-id-1 div.sk-serial {display: flex;flex-direction: column;align-items: center;background-color: white;padding-right: 0.2em;padding-left: 0.2em;position: relative;}#sk-container-id-1 div.sk-item {position: relative;z-index: 1;}#sk-container-id-1 div.sk-parallel {display: flex;align-items: stretch;justify-content: center;background-color: white;position: relative;}#sk-container-id-1 div.sk-item::before, #sk-container-id-1 div.sk-parallel-item::before {content: \"\";position: absolute;border-left: 1px solid gray;box-sizing: border-box;top: 0;bottom: 0;left: 50%;z-index: -1;}#sk-container-id-1 div.sk-parallel-item {display: flex;flex-direction: column;z-index: 1;position: relative;background-color: white;}#sk-container-id-1 div.sk-parallel-item:first-child::after {align-self: flex-end;width: 50%;}#sk-container-id-1 div.sk-parallel-item:last-child::after {align-self: flex-start;width: 50%;}#sk-container-id-1 div.sk-parallel-item:only-child::after {width: 0;}#sk-container-id-1 div.sk-dashed-wrapped {border: 1px dashed gray;margin: 0 0.4em 0.5em 0.4em;box-sizing: border-box;padding-bottom: 0.4em;background-color: white;}#sk-container-id-1 div.sk-label label {font-family: monospace;font-weight: bold;display: inline-block;line-height: 1.2em;}#sk-container-id-1 div.sk-label-container {text-align: center;}#sk-container-id-1 div.sk-container {/* jupyter's `normalize.less` sets `[hidden] { display: none; }` but bootstrap.min.css set `[hidden] { display: none !important; }` so we also need the `!important` here to be able to override the default hidden behavior on the sphinx rendered scikit-learn.org. See: https://github.com/scikit-learn/scikit-learn/issues/21755 */display: inline-block !important;position: relative;}#sk-container-id-1 div.sk-text-repr-fallback {display: none;}</style><div id=\"sk-container-id-1\" class=\"sk-top-container\"><div class=\"sk-text-repr-fallback\"><pre>GridSearchCV(cv=5, estimator=RandomForestClassifier(),\n",
              "             param_grid={&#x27;max_depth&#x27;: [4, 6, 8], &#x27;min_samples_leaf&#x27;: [40, 50],\n",
              "                         &#x27;min_samples_split&#x27;: [50, 100, 150],\n",
              "                         &#x27;n_estimators&#x27;: [50, 80, 100]},\n",
              "             scoring=&#x27;roc_auc&#x27;, verbose=2)</pre><b>In a Jupyter environment, please rerun this cell to show the HTML representation or trust the notebook. <br />On GitHub, the HTML representation is unable to render, please try loading this page with nbviewer.org.</b></div><div class=\"sk-container\" hidden><div class=\"sk-item sk-dashed-wrapped\"><div class=\"sk-label-container\"><div class=\"sk-label sk-toggleable\"><input class=\"sk-toggleable__control sk-hidden--visually\" id=\"sk-estimator-id-1\" type=\"checkbox\" ><label for=\"sk-estimator-id-1\" class=\"sk-toggleable__label sk-toggleable__label-arrow\">GridSearchCV</label><div class=\"sk-toggleable__content\"><pre>GridSearchCV(cv=5, estimator=RandomForestClassifier(),\n",
              "             param_grid={&#x27;max_depth&#x27;: [4, 6, 8], &#x27;min_samples_leaf&#x27;: [40, 50],\n",
              "                         &#x27;min_samples_split&#x27;: [50, 100, 150],\n",
              "                         &#x27;n_estimators&#x27;: [50, 80, 100]},\n",
              "             scoring=&#x27;roc_auc&#x27;, verbose=2)</pre></div></div></div><div class=\"sk-parallel\"><div class=\"sk-parallel-item\"><div class=\"sk-item\"><div class=\"sk-label-container\"><div class=\"sk-label sk-toggleable\"><input class=\"sk-toggleable__control sk-hidden--visually\" id=\"sk-estimator-id-2\" type=\"checkbox\" ><label for=\"sk-estimator-id-2\" class=\"sk-toggleable__label sk-toggleable__label-arrow\">estimator: RandomForestClassifier</label><div class=\"sk-toggleable__content\"><pre>RandomForestClassifier()</pre></div></div></div><div class=\"sk-serial\"><div class=\"sk-item\"><div class=\"sk-estimator sk-toggleable\"><input class=\"sk-toggleable__control sk-hidden--visually\" id=\"sk-estimator-id-3\" type=\"checkbox\" ><label for=\"sk-estimator-id-3\" class=\"sk-toggleable__label sk-toggleable__label-arrow\">RandomForestClassifier</label><div class=\"sk-toggleable__content\"><pre>RandomForestClassifier()</pre></div></div></div></div></div></div></div></div></div></div>"
            ]
          },
          "metadata": {},
          "execution_count": 34
        }
      ]
    },
    {
      "cell_type": "code",
      "source": [],
      "metadata": {
        "id": "-R4J_epkTfzW"
      },
      "execution_count": null,
      "outputs": []
    },
    {
      "cell_type": "code",
      "source": [
        "rf_grid.best_estimator_"
      ],
      "metadata": {
        "colab": {
          "base_uri": "https://localhost:8080/",
          "height": 92
        },
        "id": "3qDTbwdBfsyt",
        "outputId": "fe07a469-22ff-49f5-9bee-90a7ebbba2f8"
      },
      "execution_count": null,
      "outputs": [
        {
          "output_type": "execute_result",
          "data": {
            "text/plain": [
              "RandomForestClassifier(max_depth=8, min_samples_leaf=50, min_samples_split=150,\n",
              "                       n_estimators=80)"
            ],
            "text/html": [
              "<style>#sk-container-id-2 {color: black;}#sk-container-id-2 pre{padding: 0;}#sk-container-id-2 div.sk-toggleable {background-color: white;}#sk-container-id-2 label.sk-toggleable__label {cursor: pointer;display: block;width: 100%;margin-bottom: 0;padding: 0.3em;box-sizing: border-box;text-align: center;}#sk-container-id-2 label.sk-toggleable__label-arrow:before {content: \"▸\";float: left;margin-right: 0.25em;color: #696969;}#sk-container-id-2 label.sk-toggleable__label-arrow:hover:before {color: black;}#sk-container-id-2 div.sk-estimator:hover label.sk-toggleable__label-arrow:before {color: black;}#sk-container-id-2 div.sk-toggleable__content {max-height: 0;max-width: 0;overflow: hidden;text-align: left;background-color: #f0f8ff;}#sk-container-id-2 div.sk-toggleable__content pre {margin: 0.2em;color: black;border-radius: 0.25em;background-color: #f0f8ff;}#sk-container-id-2 input.sk-toggleable__control:checked~div.sk-toggleable__content {max-height: 200px;max-width: 100%;overflow: auto;}#sk-container-id-2 input.sk-toggleable__control:checked~label.sk-toggleable__label-arrow:before {content: \"▾\";}#sk-container-id-2 div.sk-estimator input.sk-toggleable__control:checked~label.sk-toggleable__label {background-color: #d4ebff;}#sk-container-id-2 div.sk-label input.sk-toggleable__control:checked~label.sk-toggleable__label {background-color: #d4ebff;}#sk-container-id-2 input.sk-hidden--visually {border: 0;clip: rect(1px 1px 1px 1px);clip: rect(1px, 1px, 1px, 1px);height: 1px;margin: -1px;overflow: hidden;padding: 0;position: absolute;width: 1px;}#sk-container-id-2 div.sk-estimator {font-family: monospace;background-color: #f0f8ff;border: 1px dotted black;border-radius: 0.25em;box-sizing: border-box;margin-bottom: 0.5em;}#sk-container-id-2 div.sk-estimator:hover {background-color: #d4ebff;}#sk-container-id-2 div.sk-parallel-item::after {content: \"\";width: 100%;border-bottom: 1px solid gray;flex-grow: 1;}#sk-container-id-2 div.sk-label:hover label.sk-toggleable__label {background-color: #d4ebff;}#sk-container-id-2 div.sk-serial::before {content: \"\";position: absolute;border-left: 1px solid gray;box-sizing: border-box;top: 0;bottom: 0;left: 50%;z-index: 0;}#sk-container-id-2 div.sk-serial {display: flex;flex-direction: column;align-items: center;background-color: white;padding-right: 0.2em;padding-left: 0.2em;position: relative;}#sk-container-id-2 div.sk-item {position: relative;z-index: 1;}#sk-container-id-2 div.sk-parallel {display: flex;align-items: stretch;justify-content: center;background-color: white;position: relative;}#sk-container-id-2 div.sk-item::before, #sk-container-id-2 div.sk-parallel-item::before {content: \"\";position: absolute;border-left: 1px solid gray;box-sizing: border-box;top: 0;bottom: 0;left: 50%;z-index: -1;}#sk-container-id-2 div.sk-parallel-item {display: flex;flex-direction: column;z-index: 1;position: relative;background-color: white;}#sk-container-id-2 div.sk-parallel-item:first-child::after {align-self: flex-end;width: 50%;}#sk-container-id-2 div.sk-parallel-item:last-child::after {align-self: flex-start;width: 50%;}#sk-container-id-2 div.sk-parallel-item:only-child::after {width: 0;}#sk-container-id-2 div.sk-dashed-wrapped {border: 1px dashed gray;margin: 0 0.4em 0.5em 0.4em;box-sizing: border-box;padding-bottom: 0.4em;background-color: white;}#sk-container-id-2 div.sk-label label {font-family: monospace;font-weight: bold;display: inline-block;line-height: 1.2em;}#sk-container-id-2 div.sk-label-container {text-align: center;}#sk-container-id-2 div.sk-container {/* jupyter's `normalize.less` sets `[hidden] { display: none; }` but bootstrap.min.css set `[hidden] { display: none !important; }` so we also need the `!important` here to be able to override the default hidden behavior on the sphinx rendered scikit-learn.org. See: https://github.com/scikit-learn/scikit-learn/issues/21755 */display: inline-block !important;position: relative;}#sk-container-id-2 div.sk-text-repr-fallback {display: none;}</style><div id=\"sk-container-id-2\" class=\"sk-top-container\"><div class=\"sk-text-repr-fallback\"><pre>RandomForestClassifier(max_depth=8, min_samples_leaf=50, min_samples_split=150,\n",
              "                       n_estimators=80)</pre><b>In a Jupyter environment, please rerun this cell to show the HTML representation or trust the notebook. <br />On GitHub, the HTML representation is unable to render, please try loading this page with nbviewer.org.</b></div><div class=\"sk-container\" hidden><div class=\"sk-item\"><div class=\"sk-estimator sk-toggleable\"><input class=\"sk-toggleable__control sk-hidden--visually\" id=\"sk-estimator-id-4\" type=\"checkbox\" checked><label for=\"sk-estimator-id-4\" class=\"sk-toggleable__label sk-toggleable__label-arrow\">RandomForestClassifier</label><div class=\"sk-toggleable__content\"><pre>RandomForestClassifier(max_depth=8, min_samples_leaf=50, min_samples_split=150,\n",
              "                       n_estimators=80)</pre></div></div></div></div></div>"
            ]
          },
          "metadata": {},
          "execution_count": 36
        }
      ]
    },
    {
      "cell_type": "code",
      "source": [
        "rf_optimal_model = rf_grid.best_estimator_"
      ],
      "metadata": {
        "id": "fNJZcR4XgXWY"
      },
      "execution_count": null,
      "outputs": []
    },
    {
      "cell_type": "code",
      "source": [
        "rf_grid.best_params_"
      ],
      "metadata": {
        "colab": {
          "base_uri": "https://localhost:8080/"
        },
        "id": "hk7D44ergbuw",
        "outputId": "1e09e672-746b-4e02-e57f-81475ad01ef1"
      },
      "execution_count": null,
      "outputs": [
        {
          "output_type": "execute_result",
          "data": {
            "text/plain": [
              "{'max_depth': 8,\n",
              " 'min_samples_leaf': 50,\n",
              " 'min_samples_split': 100,\n",
              " 'n_estimators': 100}"
            ]
          },
          "metadata": {},
          "execution_count": 23
        }
      ]
    },
    {
      "cell_type": "code",
      "source": [
        "train_class_preds = rf_optimal_model.predict(X_train)\n",
        "test_class_preds = rf_optimal_model.predict(X_test)\n",
        "\n",
        "\n",
        "# Get the probabilities on train and test\n",
        "train_preds = rf_optimal_model.predict_proba(X_train)[:,1]\n",
        "test_preds = rf_optimal_model.predict_proba(X_test)[:,1]"
      ],
      "metadata": {
        "id": "dg0H4mEqggDG"
      },
      "execution_count": null,
      "outputs": []
    },
    {
      "cell_type": "code",
      "source": [
        "test_class_preds"
      ],
      "metadata": {
        "colab": {
          "base_uri": "https://localhost:8080/"
        },
        "id": "1Px_ehoQgq1s",
        "outputId": "591d0207-30d7-4460-e704-f84ea75c00b7"
      },
      "execution_count": null,
      "outputs": [
        {
          "output_type": "execute_result",
          "data": {
            "text/plain": [
              "array([0, 0, 0, ..., 0, 1, 0])"
            ]
          },
          "metadata": {},
          "execution_count": 39
        }
      ]
    },
    {
      "cell_type": "code",
      "source": [
        "# Get the confusion matrices for train and test\n",
        "train_cm = confusion_matrix(Y_train,train_class_preds)\n",
        "test_cm = confusion_matrix(Y_test,test_class_preds )"
      ],
      "metadata": {
        "id": "gWKpWH2fhD9a"
      },
      "execution_count": null,
      "outputs": []
    },
    {
      "cell_type": "code",
      "source": [
        "train_cm"
      ],
      "metadata": {
        "colab": {
          "base_uri": "https://localhost:8080/"
        },
        "id": "fSorsd_ShUUm",
        "outputId": "32ee70e0-4733-4470-8c00-a84ed376013c"
      },
      "execution_count": null,
      "outputs": [
        {
          "output_type": "execute_result",
          "data": {
            "text/plain": [
              "array([[16720,   812],\n",
              "       [ 3168,  1800]])"
            ]
          },
          "metadata": {},
          "execution_count": 41
        }
      ]
    },
    {
      "cell_type": "code",
      "source": [
        "test_cm"
      ],
      "metadata": {
        "colab": {
          "base_uri": "https://localhost:8080/"
        },
        "id": "EDwhiZJ4hWft",
        "outputId": "2bae46b4-8c4f-4361-bcf5-3139f445e5d5"
      },
      "execution_count": null,
      "outputs": [
        {
          "output_type": "execute_result",
          "data": {
            "text/plain": [
              "array([[5559,  273],\n",
              "       [1094,  574]])"
            ]
          },
          "metadata": {},
          "execution_count": 42
        }
      ]
    },
    {
      "cell_type": "code",
      "source": [
        "print('f1_score for training data set',f1_score(Y_train,train_class_preds))"
      ],
      "metadata": {
        "colab": {
          "base_uri": "https://localhost:8080/"
        },
        "id": "o2rUWuj0Dr--",
        "outputId": "b66cec14-ec59-41b9-8ab5-d9d3a11b50ab"
      },
      "execution_count": null,
      "outputs": [
        {
          "output_type": "stream",
          "name": "stdout",
          "text": [
            "f1_score for training data set 0.474934036939314\n"
          ]
        }
      ]
    },
    {
      "cell_type": "code",
      "source": [
        "print('f_1 score for testing data set',f1_score(Y_test,test_class_preds))"
      ],
      "metadata": {
        "colab": {
          "base_uri": "https://localhost:8080/"
        },
        "id": "UGkuaAAcwVLf",
        "outputId": "5c626bf9-0f6f-4929-bfbd-4c82e566fe36"
      },
      "execution_count": null,
      "outputs": [
        {
          "output_type": "stream",
          "name": "stdout",
          "text": [
            "f_1 score for testing data set 0.4564612326043737\n"
          ]
        }
      ]
    },
    {
      "cell_type": "code",
      "source": [
        "# Calculate roc_auc score on train set\n",
        "roc_auc_score(Y_train,train_preds)"
      ],
      "metadata": {
        "colab": {
          "base_uri": "https://localhost:8080/"
        },
        "id": "x6PhLgDVVcTu",
        "outputId": "672a1ce5-c02a-4417-9e12-e64c2a7071b2"
      },
      "execution_count": null,
      "outputs": [
        {
          "output_type": "execute_result",
          "data": {
            "text/plain": [
              "0.8021302282589409"
            ]
          },
          "metadata": {},
          "execution_count": 82
        }
      ]
    },
    {
      "cell_type": "code",
      "source": [
        "# Calculate roc_auc score on test set\n",
        "roc_auc_score(Y_test,test_preds)"
      ],
      "metadata": {
        "colab": {
          "base_uri": "https://localhost:8080/"
        },
        "id": "04tsS8JMVf8I",
        "outputId": "7476a70d-85a5-4590-ca14-70657f589d66"
      },
      "execution_count": null,
      "outputs": [
        {
          "output_type": "execute_result",
          "data": {
            "text/plain": [
              "0.7779453906010994"
            ]
          },
          "metadata": {},
          "execution_count": 83
        }
      ]
    },
    {
      "cell_type": "code",
      "source": [
        "cc_df['default payment next month'].value_counts()"
      ],
      "metadata": {
        "colab": {
          "base_uri": "https://localhost:8080/"
        },
        "id": "SLEx_SZbS6b6",
        "outputId": "4303fc3f-b9d9-47c7-f80a-3039744f3fdf"
      },
      "execution_count": null,
      "outputs": [
        {
          "output_type": "execute_result",
          "data": {
            "text/plain": [
              "default payment next month\n",
              "0    23364\n",
              "1     6636\n",
              "Name: count, dtype: int64"
            ]
          },
          "metadata": {},
          "execution_count": 84
        }
      ]
    },
    {
      "cell_type": "code",
      "source": [
        "from imblearn.over_sampling import SMOTE\n",
        "\n",
        "smote = SMOTE()\n",
        "\n",
        "# fit predictor and target variable\n",
        "x_smote, y_smote = smote.fit_resample(X,Y)\n",
        "\n",
        "print('Original dataset shape', len(cc_df))\n",
        "print('Resampled dataset shape', len(y_smote))"
      ],
      "metadata": {
        "colab": {
          "base_uri": "https://localhost:8080/"
        },
        "id": "n24jZiwpTkjp",
        "outputId": "391334a2-35b7-4b2d-f900-cf0c2104b13c"
      },
      "execution_count": null,
      "outputs": [
        {
          "output_type": "stream",
          "name": "stdout",
          "text": [
            "Original dataset shape 30000\n",
            "Resampled dataset shape 46728\n"
          ]
        }
      ]
    },
    {
      "cell_type": "code",
      "source": [
        "# Splitting the dataset into the Training set and Test set\n",
        "X1_train, X1_test, Y1_train, Y1_test = train_test_split(x_smote, y_smote, test_size = 0.2, random_state = 3)"
      ],
      "metadata": {
        "id": "Uo4SpGMsUHFN"
      },
      "execution_count": null,
      "outputs": []
    },
    {
      "cell_type": "code",
      "source": [
        "from xgboost import XGBClassifier\n",
        "\n",
        "xgb_model = XGBClassifier().fit(X1_train, Y1_train)\n",
        "\n",
        "# predict\n",
        "xgb_y_predict = xgb_model.predict(X1_test)\n",
        "\n"
      ],
      "metadata": {
        "id": "FH3ZUUU0XokF"
      },
      "execution_count": null,
      "outputs": []
    },
    {
      "cell_type": "code",
      "source": [
        "# Calculate ROC_AUC socre\n",
        "print('ROCAUC score_test:', roc_auc_score(Y1_test, xgb_y_predict))"
      ],
      "metadata": {
        "colab": {
          "base_uri": "https://localhost:8080/"
        },
        "id": "40PqJAqT2teK",
        "outputId": "b4beb93c-c980-48e1-ba4e-b78294dd8c7f"
      },
      "execution_count": null,
      "outputs": [
        {
          "output_type": "stream",
          "name": "stdout",
          "text": [
            "ROCAUC score_test: 0.8212742076300787\n"
          ]
        }
      ]
    },
    {
      "cell_type": "code",
      "source": [
        "# Calculate F1_score\n",
        "print('f1_score',f1_score(Y1_test,xgb_y_predict))"
      ],
      "metadata": {
        "colab": {
          "base_uri": "https://localhost:8080/"
        },
        "id": "AcKliWRr22WO",
        "outputId": "7604f189-3e90-4bd4-8818-7e558e3d0cc2"
      },
      "execution_count": null,
      "outputs": [
        {
          "output_type": "stream",
          "name": "stdout",
          "text": [
            "f1_score 0.8168056164984643\n"
          ]
        }
      ]
    },
    {
      "cell_type": "code",
      "source": [
        "rf_model = RandomForestClassifier()\n",
        "\n",
        "# Grid search\n",
        "rf_grid = GridSearchCV(estimator=rf_model,\n",
        "                       param_grid = param_dict,\n",
        "                       cv = 5, verbose=2, scoring='roc_auc')\n",
        "\n",
        "rf_grid.fit(X1_train,Y1_train)"
      ],
      "metadata": {
        "colab": {
          "base_uri": "https://localhost:8080/",
          "height": 1000
        },
        "id": "GA1GmEaba08d",
        "outputId": "2e5e5e15-0a7c-4d02-ecf6-352e9872360e"
      },
      "execution_count": null,
      "outputs": [
        {
          "output_type": "stream",
          "name": "stdout",
          "text": [
            "Fitting 5 folds for each of 54 candidates, totalling 270 fits\n",
            "[CV] END max_depth=4, min_samples_leaf=40, min_samples_split=50, n_estimators=50; total time=   1.6s\n",
            "[CV] END max_depth=4, min_samples_leaf=40, min_samples_split=50, n_estimators=50; total time=   2.2s\n",
            "[CV] END max_depth=4, min_samples_leaf=40, min_samples_split=50, n_estimators=50; total time=   2.3s\n",
            "[CV] END max_depth=4, min_samples_leaf=40, min_samples_split=50, n_estimators=50; total time=   1.8s\n",
            "[CV] END max_depth=4, min_samples_leaf=40, min_samples_split=50, n_estimators=50; total time=   1.7s\n",
            "[CV] END max_depth=4, min_samples_leaf=40, min_samples_split=50, n_estimators=80; total time=   2.7s\n",
            "[CV] END max_depth=4, min_samples_leaf=40, min_samples_split=50, n_estimators=80; total time=   2.6s\n",
            "[CV] END max_depth=4, min_samples_leaf=40, min_samples_split=50, n_estimators=80; total time=   3.0s\n",
            "[CV] END max_depth=4, min_samples_leaf=40, min_samples_split=50, n_estimators=80; total time=   3.5s\n",
            "[CV] END max_depth=4, min_samples_leaf=40, min_samples_split=50, n_estimators=80; total time=   2.6s\n",
            "[CV] END max_depth=4, min_samples_leaf=40, min_samples_split=50, n_estimators=100; total time=   3.3s\n",
            "[CV] END max_depth=4, min_samples_leaf=40, min_samples_split=50, n_estimators=100; total time=   3.4s\n",
            "[CV] END max_depth=4, min_samples_leaf=40, min_samples_split=50, n_estimators=100; total time=   4.4s\n",
            "[CV] END max_depth=4, min_samples_leaf=40, min_samples_split=50, n_estimators=100; total time=   3.4s\n",
            "[CV] END max_depth=4, min_samples_leaf=40, min_samples_split=50, n_estimators=100; total time=   3.2s\n",
            "[CV] END max_depth=4, min_samples_leaf=40, min_samples_split=100, n_estimators=50; total time=   1.6s\n",
            "[CV] END max_depth=4, min_samples_leaf=40, min_samples_split=100, n_estimators=50; total time=   1.6s\n",
            "[CV] END max_depth=4, min_samples_leaf=40, min_samples_split=100, n_estimators=50; total time=   2.0s\n",
            "[CV] END max_depth=4, min_samples_leaf=40, min_samples_split=100, n_estimators=50; total time=   2.3s\n",
            "[CV] END max_depth=4, min_samples_leaf=40, min_samples_split=100, n_estimators=50; total time=   2.3s\n",
            "[CV] END max_depth=4, min_samples_leaf=40, min_samples_split=100, n_estimators=80; total time=   3.6s\n",
            "[CV] END max_depth=4, min_samples_leaf=40, min_samples_split=100, n_estimators=80; total time=   2.6s\n",
            "[CV] END max_depth=4, min_samples_leaf=40, min_samples_split=100, n_estimators=80; total time=   2.6s\n",
            "[CV] END max_depth=4, min_samples_leaf=40, min_samples_split=100, n_estimators=80; total time=   3.6s\n",
            "[CV] END max_depth=4, min_samples_leaf=40, min_samples_split=100, n_estimators=80; total time=   2.9s\n",
            "[CV] END max_depth=4, min_samples_leaf=40, min_samples_split=100, n_estimators=100; total time=   3.2s\n",
            "[CV] END max_depth=4, min_samples_leaf=40, min_samples_split=100, n_estimators=100; total time=   3.2s\n",
            "[CV] END max_depth=4, min_samples_leaf=40, min_samples_split=100, n_estimators=100; total time=   3.8s\n",
            "[CV] END max_depth=4, min_samples_leaf=40, min_samples_split=100, n_estimators=100; total time=   4.1s\n",
            "[CV] END max_depth=4, min_samples_leaf=40, min_samples_split=100, n_estimators=100; total time=   3.2s\n",
            "[CV] END max_depth=4, min_samples_leaf=40, min_samples_split=150, n_estimators=50; total time=   1.6s\n",
            "[CV] END max_depth=4, min_samples_leaf=40, min_samples_split=150, n_estimators=50; total time=   1.6s\n",
            "[CV] END max_depth=4, min_samples_leaf=40, min_samples_split=150, n_estimators=50; total time=   1.6s\n",
            "[CV] END max_depth=4, min_samples_leaf=40, min_samples_split=150, n_estimators=50; total time=   2.1s\n",
            "[CV] END max_depth=4, min_samples_leaf=40, min_samples_split=150, n_estimators=50; total time=   2.3s\n",
            "[CV] END max_depth=4, min_samples_leaf=40, min_samples_split=150, n_estimators=80; total time=   2.7s\n",
            "[CV] END max_depth=4, min_samples_leaf=40, min_samples_split=150, n_estimators=80; total time=   2.6s\n",
            "[CV] END max_depth=4, min_samples_leaf=40, min_samples_split=150, n_estimators=80; total time=   2.6s\n",
            "[CV] END max_depth=4, min_samples_leaf=40, min_samples_split=150, n_estimators=80; total time=   2.7s\n",
            "[CV] END max_depth=4, min_samples_leaf=40, min_samples_split=150, n_estimators=80; total time=   3.6s\n",
            "[CV] END max_depth=4, min_samples_leaf=40, min_samples_split=150, n_estimators=100; total time=   3.3s\n",
            "[CV] END max_depth=4, min_samples_leaf=40, min_samples_split=150, n_estimators=100; total time=   3.2s\n",
            "[CV] END max_depth=4, min_samples_leaf=40, min_samples_split=150, n_estimators=100; total time=   3.2s\n",
            "[CV] END max_depth=4, min_samples_leaf=40, min_samples_split=150, n_estimators=100; total time=   4.2s\n",
            "[CV] END max_depth=4, min_samples_leaf=40, min_samples_split=150, n_estimators=100; total time=   3.5s\n",
            "[CV] END max_depth=4, min_samples_leaf=50, min_samples_split=50, n_estimators=50; total time=   1.6s\n",
            "[CV] END max_depth=4, min_samples_leaf=50, min_samples_split=50, n_estimators=50; total time=   1.6s\n",
            "[CV] END max_depth=4, min_samples_leaf=50, min_samples_split=50, n_estimators=50; total time=   1.6s\n",
            "[CV] END max_depth=4, min_samples_leaf=50, min_samples_split=50, n_estimators=50; total time=   1.7s\n",
            "[CV] END max_depth=4, min_samples_leaf=50, min_samples_split=50, n_estimators=50; total time=   1.9s\n",
            "[CV] END max_depth=4, min_samples_leaf=50, min_samples_split=50, n_estimators=80; total time=   3.6s\n",
            "[CV] END max_depth=4, min_samples_leaf=50, min_samples_split=50, n_estimators=80; total time=   2.6s\n",
            "[CV] END max_depth=4, min_samples_leaf=50, min_samples_split=50, n_estimators=80; total time=   2.7s\n",
            "[CV] END max_depth=4, min_samples_leaf=50, min_samples_split=50, n_estimators=80; total time=   2.6s\n",
            "[CV] END max_depth=4, min_samples_leaf=50, min_samples_split=50, n_estimators=80; total time=   2.7s\n",
            "[CV] END max_depth=4, min_samples_leaf=50, min_samples_split=50, n_estimators=100; total time=   4.4s\n",
            "[CV] END max_depth=4, min_samples_leaf=50, min_samples_split=50, n_estimators=100; total time=   3.2s\n",
            "[CV] END max_depth=4, min_samples_leaf=50, min_samples_split=50, n_estimators=100; total time=   3.2s\n",
            "[CV] END max_depth=4, min_samples_leaf=50, min_samples_split=50, n_estimators=100; total time=   3.3s\n",
            "[CV] END max_depth=4, min_samples_leaf=50, min_samples_split=50, n_estimators=100; total time=   4.4s\n",
            "[CV] END max_depth=4, min_samples_leaf=50, min_samples_split=100, n_estimators=50; total time=   1.6s\n",
            "[CV] END max_depth=4, min_samples_leaf=50, min_samples_split=100, n_estimators=50; total time=   1.6s\n",
            "[CV] END max_depth=4, min_samples_leaf=50, min_samples_split=100, n_estimators=50; total time=   1.7s\n",
            "[CV] END max_depth=4, min_samples_leaf=50, min_samples_split=100, n_estimators=50; total time=   1.6s\n",
            "[CV] END max_depth=4, min_samples_leaf=50, min_samples_split=100, n_estimators=50; total time=   1.6s\n",
            "[CV] END max_depth=4, min_samples_leaf=50, min_samples_split=100, n_estimators=80; total time=   2.8s\n",
            "[CV] END max_depth=4, min_samples_leaf=50, min_samples_split=100, n_estimators=80; total time=   3.5s\n",
            "[CV] END max_depth=4, min_samples_leaf=50, min_samples_split=100, n_estimators=80; total time=   2.6s\n",
            "[CV] END max_depth=4, min_samples_leaf=50, min_samples_split=100, n_estimators=80; total time=   2.6s\n",
            "[CV] END max_depth=4, min_samples_leaf=50, min_samples_split=100, n_estimators=80; total time=   2.6s\n",
            "[CV] END max_depth=4, min_samples_leaf=50, min_samples_split=100, n_estimators=100; total time=   3.7s\n",
            "[CV] END max_depth=4, min_samples_leaf=50, min_samples_split=100, n_estimators=100; total time=   4.0s\n",
            "[CV] END max_depth=4, min_samples_leaf=50, min_samples_split=100, n_estimators=100; total time=   3.1s\n",
            "[CV] END max_depth=4, min_samples_leaf=50, min_samples_split=100, n_estimators=100; total time=   3.2s\n",
            "[CV] END max_depth=4, min_samples_leaf=50, min_samples_split=100, n_estimators=100; total time=   3.3s\n",
            "[CV] END max_depth=4, min_samples_leaf=50, min_samples_split=150, n_estimators=50; total time=   2.2s\n",
            "[CV] END max_depth=4, min_samples_leaf=50, min_samples_split=150, n_estimators=50; total time=   2.2s\n",
            "[CV] END max_depth=4, min_samples_leaf=50, min_samples_split=150, n_estimators=50; total time=   1.6s\n",
            "[CV] END max_depth=4, min_samples_leaf=50, min_samples_split=150, n_estimators=50; total time=   1.6s\n",
            "[CV] END max_depth=4, min_samples_leaf=50, min_samples_split=150, n_estimators=50; total time=   1.6s\n",
            "[CV] END max_depth=4, min_samples_leaf=50, min_samples_split=150, n_estimators=80; total time=   2.6s\n",
            "[CV] END max_depth=4, min_samples_leaf=50, min_samples_split=150, n_estimators=80; total time=   2.6s\n",
            "[CV] END max_depth=4, min_samples_leaf=50, min_samples_split=150, n_estimators=80; total time=   3.6s\n",
            "[CV] END max_depth=4, min_samples_leaf=50, min_samples_split=150, n_estimators=80; total time=   2.7s\n",
            "[CV] END max_depth=4, min_samples_leaf=50, min_samples_split=150, n_estimators=80; total time=   3.0s\n",
            "[CV] END max_depth=4, min_samples_leaf=50, min_samples_split=150, n_estimators=100; total time=   4.1s\n",
            "[CV] END max_depth=4, min_samples_leaf=50, min_samples_split=150, n_estimators=100; total time=   4.2s\n",
            "[CV] END max_depth=4, min_samples_leaf=50, min_samples_split=150, n_estimators=100; total time=   3.3s\n",
            "[CV] END max_depth=4, min_samples_leaf=50, min_samples_split=150, n_estimators=100; total time=   3.3s\n",
            "[CV] END max_depth=4, min_samples_leaf=50, min_samples_split=150, n_estimators=100; total time=   3.3s\n",
            "[CV] END max_depth=6, min_samples_leaf=40, min_samples_split=50, n_estimators=50; total time=   2.9s\n",
            "[CV] END max_depth=6, min_samples_leaf=40, min_samples_split=50, n_estimators=50; total time=   2.9s\n",
            "[CV] END max_depth=6, min_samples_leaf=40, min_samples_split=50, n_estimators=50; total time=   2.3s\n",
            "[CV] END max_depth=6, min_samples_leaf=40, min_samples_split=50, n_estimators=50; total time=   2.2s\n",
            "[CV] END max_depth=6, min_samples_leaf=40, min_samples_split=50, n_estimators=50; total time=   2.3s\n",
            "[CV] END max_depth=6, min_samples_leaf=40, min_samples_split=50, n_estimators=80; total time=   4.0s\n",
            "[CV] END max_depth=6, min_samples_leaf=40, min_samples_split=50, n_estimators=80; total time=   4.4s\n",
            "[CV] END max_depth=6, min_samples_leaf=40, min_samples_split=50, n_estimators=80; total time=   3.5s\n",
            "[CV] END max_depth=6, min_samples_leaf=40, min_samples_split=50, n_estimators=80; total time=   3.7s\n",
            "[CV] END max_depth=6, min_samples_leaf=40, min_samples_split=50, n_estimators=80; total time=   4.4s\n",
            "[CV] END max_depth=6, min_samples_leaf=40, min_samples_split=50, n_estimators=100; total time=   5.0s\n",
            "[CV] END max_depth=6, min_samples_leaf=40, min_samples_split=50, n_estimators=100; total time=   4.5s\n",
            "[CV] END max_depth=6, min_samples_leaf=40, min_samples_split=50, n_estimators=100; total time=   5.5s\n",
            "[CV] END max_depth=6, min_samples_leaf=40, min_samples_split=50, n_estimators=100; total time=   4.9s\n",
            "[CV] END max_depth=6, min_samples_leaf=40, min_samples_split=50, n_estimators=100; total time=   4.6s\n",
            "[CV] END max_depth=6, min_samples_leaf=40, min_samples_split=100, n_estimators=50; total time=   2.5s\n",
            "[CV] END max_depth=6, min_samples_leaf=40, min_samples_split=100, n_estimators=50; total time=   3.2s\n",
            "[CV] END max_depth=6, min_samples_leaf=40, min_samples_split=100, n_estimators=50; total time=   2.5s\n",
            "[CV] END max_depth=6, min_samples_leaf=40, min_samples_split=100, n_estimators=50; total time=   2.5s\n",
            "[CV] END max_depth=6, min_samples_leaf=40, min_samples_split=100, n_estimators=50; total time=   2.3s\n",
            "[CV] END max_depth=6, min_samples_leaf=40, min_samples_split=100, n_estimators=80; total time=   3.8s\n",
            "[CV] END max_depth=6, min_samples_leaf=40, min_samples_split=100, n_estimators=80; total time=   4.9s\n",
            "[CV] END max_depth=6, min_samples_leaf=40, min_samples_split=100, n_estimators=80; total time=   3.6s\n",
            "[CV] END max_depth=6, min_samples_leaf=40, min_samples_split=100, n_estimators=80; total time=   3.7s\n",
            "[CV] END max_depth=6, min_samples_leaf=40, min_samples_split=100, n_estimators=80; total time=   4.2s\n",
            "[CV] END max_depth=6, min_samples_leaf=40, min_samples_split=100, n_estimators=100; total time=   5.3s\n",
            "[CV] END max_depth=6, min_samples_leaf=40, min_samples_split=100, n_estimators=100; total time=   4.6s\n",
            "[CV] END max_depth=6, min_samples_leaf=40, min_samples_split=100, n_estimators=100; total time=   5.2s\n",
            "[CV] END max_depth=6, min_samples_leaf=40, min_samples_split=100, n_estimators=100; total time=   5.2s\n",
            "[CV] END max_depth=6, min_samples_leaf=40, min_samples_split=100, n_estimators=100; total time=   4.6s\n",
            "[CV] END max_depth=6, min_samples_leaf=40, min_samples_split=150, n_estimators=50; total time=   2.3s\n",
            "[CV] END max_depth=6, min_samples_leaf=40, min_samples_split=150, n_estimators=50; total time=   3.1s\n",
            "[CV] END max_depth=6, min_samples_leaf=40, min_samples_split=150, n_estimators=50; total time=   2.7s\n",
            "[CV] END max_depth=6, min_samples_leaf=40, min_samples_split=150, n_estimators=50; total time=   2.3s\n",
            "[CV] END max_depth=6, min_samples_leaf=40, min_samples_split=150, n_estimators=50; total time=   2.3s\n",
            "[CV] END max_depth=6, min_samples_leaf=40, min_samples_split=150, n_estimators=80; total time=   3.6s\n",
            "[CV] END max_depth=6, min_samples_leaf=40, min_samples_split=150, n_estimators=80; total time=   4.8s\n",
            "[CV] END max_depth=6, min_samples_leaf=40, min_samples_split=150, n_estimators=80; total time=   3.9s\n",
            "[CV] END max_depth=6, min_samples_leaf=40, min_samples_split=150, n_estimators=80; total time=   3.7s\n",
            "[CV] END max_depth=6, min_samples_leaf=40, min_samples_split=150, n_estimators=80; total time=   3.9s\n",
            "[CV] END max_depth=6, min_samples_leaf=40, min_samples_split=150, n_estimators=100; total time=   5.6s\n",
            "[CV] END max_depth=6, min_samples_leaf=40, min_samples_split=150, n_estimators=100; total time=   4.5s\n",
            "[CV] END max_depth=6, min_samples_leaf=40, min_samples_split=150, n_estimators=100; total time=   6.2s\n",
            "[CV] END max_depth=6, min_samples_leaf=40, min_samples_split=150, n_estimators=100; total time=   5.7s\n",
            "[CV] END max_depth=6, min_samples_leaf=40, min_samples_split=150, n_estimators=100; total time=   4.5s\n",
            "[CV] END max_depth=6, min_samples_leaf=50, min_samples_split=50, n_estimators=50; total time=   2.3s\n",
            "[CV] END max_depth=6, min_samples_leaf=50, min_samples_split=50, n_estimators=50; total time=   2.7s\n",
            "[CV] END max_depth=6, min_samples_leaf=50, min_samples_split=50, n_estimators=50; total time=   3.2s\n",
            "[CV] END max_depth=6, min_samples_leaf=50, min_samples_split=50, n_estimators=50; total time=   2.3s\n",
            "[CV] END max_depth=6, min_samples_leaf=50, min_samples_split=50, n_estimators=50; total time=   2.3s\n",
            "[CV] END max_depth=6, min_samples_leaf=50, min_samples_split=50, n_estimators=80; total time=   3.6s\n",
            "[CV] END max_depth=6, min_samples_leaf=50, min_samples_split=50, n_estimators=80; total time=   4.2s\n",
            "[CV] END max_depth=6, min_samples_leaf=50, min_samples_split=50, n_estimators=80; total time=   4.3s\n",
            "[CV] END max_depth=6, min_samples_leaf=50, min_samples_split=50, n_estimators=80; total time=   3.6s\n",
            "[CV] END max_depth=6, min_samples_leaf=50, min_samples_split=50, n_estimators=80; total time=   3.6s\n",
            "[CV] END max_depth=6, min_samples_leaf=50, min_samples_split=50, n_estimators=100; total time=   5.8s\n",
            "[CV] END max_depth=6, min_samples_leaf=50, min_samples_split=50, n_estimators=100; total time=   4.5s\n",
            "[CV] END max_depth=6, min_samples_leaf=50, min_samples_split=50, n_estimators=100; total time=   4.5s\n",
            "[CV] END max_depth=6, min_samples_leaf=50, min_samples_split=50, n_estimators=100; total time=   5.8s\n",
            "[CV] END max_depth=6, min_samples_leaf=50, min_samples_split=50, n_estimators=100; total time=   4.4s\n",
            "[CV] END max_depth=6, min_samples_leaf=50, min_samples_split=100, n_estimators=50; total time=   2.2s\n",
            "[CV] END max_depth=6, min_samples_leaf=50, min_samples_split=100, n_estimators=50; total time=   2.2s\n",
            "[CV] END max_depth=6, min_samples_leaf=50, min_samples_split=100, n_estimators=50; total time=   2.9s\n",
            "[CV] END max_depth=6, min_samples_leaf=50, min_samples_split=100, n_estimators=50; total time=   3.0s\n",
            "[CV] END max_depth=6, min_samples_leaf=50, min_samples_split=100, n_estimators=50; total time=   2.2s\n",
            "[CV] END max_depth=6, min_samples_leaf=50, min_samples_split=100, n_estimators=80; total time=   3.6s\n",
            "[CV] END max_depth=6, min_samples_leaf=50, min_samples_split=100, n_estimators=80; total time=   3.7s\n",
            "[CV] END max_depth=6, min_samples_leaf=50, min_samples_split=100, n_estimators=80; total time=   4.8s\n",
            "[CV] END max_depth=6, min_samples_leaf=50, min_samples_split=100, n_estimators=80; total time=   3.6s\n",
            "[CV] END max_depth=6, min_samples_leaf=50, min_samples_split=100, n_estimators=80; total time=   3.6s\n",
            "[CV] END max_depth=6, min_samples_leaf=50, min_samples_split=100, n_estimators=100; total time=   5.2s\n",
            "[CV] END max_depth=6, min_samples_leaf=50, min_samples_split=100, n_estimators=100; total time=   5.1s\n",
            "[CV] END max_depth=6, min_samples_leaf=50, min_samples_split=100, n_estimators=100; total time=   4.5s\n",
            "[CV] END max_depth=6, min_samples_leaf=50, min_samples_split=100, n_estimators=100; total time=   5.5s\n",
            "[CV] END max_depth=6, min_samples_leaf=50, min_samples_split=100, n_estimators=100; total time=   5.0s\n",
            "[CV] END max_depth=6, min_samples_leaf=50, min_samples_split=150, n_estimators=50; total time=   2.2s\n",
            "[CV] END max_depth=6, min_samples_leaf=50, min_samples_split=150, n_estimators=50; total time=   2.3s\n",
            "[CV] END max_depth=6, min_samples_leaf=50, min_samples_split=150, n_estimators=50; total time=   2.4s\n",
            "[CV] END max_depth=6, min_samples_leaf=50, min_samples_split=150, n_estimators=50; total time=   3.1s\n",
            "[CV] END max_depth=6, min_samples_leaf=50, min_samples_split=150, n_estimators=50; total time=   2.6s\n",
            "[CV] END max_depth=6, min_samples_leaf=50, min_samples_split=150, n_estimators=80; total time=   3.6s\n",
            "[CV] END max_depth=6, min_samples_leaf=50, min_samples_split=150, n_estimators=80; total time=   4.4s\n",
            "[CV] END max_depth=6, min_samples_leaf=50, min_samples_split=150, n_estimators=80; total time=   6.2s\n",
            "[CV] END max_depth=6, min_samples_leaf=50, min_samples_split=150, n_estimators=80; total time=   4.0s\n",
            "[CV] END max_depth=6, min_samples_leaf=50, min_samples_split=150, n_estimators=80; total time=   3.6s\n",
            "[CV] END max_depth=6, min_samples_leaf=50, min_samples_split=150, n_estimators=100; total time=   4.9s\n",
            "[CV] END max_depth=6, min_samples_leaf=50, min_samples_split=150, n_estimators=100; total time=   5.4s\n",
            "[CV] END max_depth=6, min_samples_leaf=50, min_samples_split=150, n_estimators=100; total time=   4.5s\n",
            "[CV] END max_depth=6, min_samples_leaf=50, min_samples_split=150, n_estimators=100; total time=   6.1s\n",
            "[CV] END max_depth=6, min_samples_leaf=50, min_samples_split=150, n_estimators=100; total time=   5.6s\n",
            "[CV] END max_depth=8, min_samples_leaf=40, min_samples_split=50, n_estimators=50; total time=   2.8s\n",
            "[CV] END max_depth=8, min_samples_leaf=40, min_samples_split=50, n_estimators=50; total time=   2.8s\n",
            "[CV] END max_depth=8, min_samples_leaf=40, min_samples_split=50, n_estimators=50; total time=   3.0s\n",
            "[CV] END max_depth=8, min_samples_leaf=40, min_samples_split=50, n_estimators=50; total time=   4.0s\n",
            "[CV] END max_depth=8, min_samples_leaf=40, min_samples_split=50, n_estimators=50; total time=   2.9s\n",
            "[CV] END max_depth=8, min_samples_leaf=40, min_samples_split=50, n_estimators=80; total time=   4.5s\n",
            "[CV] END max_depth=8, min_samples_leaf=40, min_samples_split=50, n_estimators=80; total time=   5.1s\n",
            "[CV] END max_depth=8, min_samples_leaf=40, min_samples_split=50, n_estimators=80; total time=   5.2s\n",
            "[CV] END max_depth=8, min_samples_leaf=40, min_samples_split=50, n_estimators=80; total time=   4.6s\n",
            "[CV] END max_depth=8, min_samples_leaf=40, min_samples_split=50, n_estimators=80; total time=   5.2s\n",
            "[CV] END max_depth=8, min_samples_leaf=40, min_samples_split=50, n_estimators=100; total time=   6.3s\n",
            "[CV] END max_depth=8, min_samples_leaf=40, min_samples_split=50, n_estimators=100; total time=   5.5s\n",
            "[CV] END max_depth=8, min_samples_leaf=40, min_samples_split=50, n_estimators=100; total time=   6.9s\n",
            "[CV] END max_depth=8, min_samples_leaf=40, min_samples_split=50, n_estimators=100; total time=   5.6s\n",
            "[CV] END max_depth=8, min_samples_leaf=40, min_samples_split=50, n_estimators=100; total time=   6.7s\n",
            "[CV] END max_depth=8, min_samples_leaf=40, min_samples_split=100, n_estimators=50; total time=   2.9s\n",
            "[CV] END max_depth=8, min_samples_leaf=40, min_samples_split=100, n_estimators=50; total time=   2.8s\n",
            "[CV] END max_depth=8, min_samples_leaf=40, min_samples_split=100, n_estimators=50; total time=   2.8s\n",
            "[CV] END max_depth=8, min_samples_leaf=40, min_samples_split=100, n_estimators=50; total time=   3.1s\n",
            "[CV] END max_depth=8, min_samples_leaf=40, min_samples_split=100, n_estimators=50; total time=   3.8s\n",
            "[CV] END max_depth=8, min_samples_leaf=40, min_samples_split=100, n_estimators=80; total time=   4.5s\n",
            "[CV] END max_depth=8, min_samples_leaf=40, min_samples_split=100, n_estimators=80; total time=   4.4s\n",
            "[CV] END max_depth=8, min_samples_leaf=40, min_samples_split=100, n_estimators=80; total time=   5.8s\n",
            "[CV] END max_depth=8, min_samples_leaf=40, min_samples_split=100, n_estimators=80; total time=   4.5s\n",
            "[CV] END max_depth=8, min_samples_leaf=40, min_samples_split=100, n_estimators=80; total time=   4.5s\n",
            "[CV] END max_depth=8, min_samples_leaf=40, min_samples_split=100, n_estimators=100; total time=   6.8s\n",
            "[CV] END max_depth=8, min_samples_leaf=40, min_samples_split=100, n_estimators=100; total time=   5.6s\n",
            "[CV] END max_depth=8, min_samples_leaf=40, min_samples_split=100, n_estimators=100; total time=   6.9s\n",
            "[CV] END max_depth=8, min_samples_leaf=40, min_samples_split=100, n_estimators=100; total time=   5.7s\n",
            "[CV] END max_depth=8, min_samples_leaf=40, min_samples_split=100, n_estimators=100; total time=   6.1s\n",
            "[CV] END max_depth=8, min_samples_leaf=40, min_samples_split=150, n_estimators=50; total time=   3.7s\n",
            "[CV] END max_depth=8, min_samples_leaf=40, min_samples_split=150, n_estimators=50; total time=   2.8s\n",
            "[CV] END max_depth=8, min_samples_leaf=40, min_samples_split=150, n_estimators=50; total time=   2.8s\n",
            "[CV] END max_depth=8, min_samples_leaf=40, min_samples_split=150, n_estimators=50; total time=   2.8s\n",
            "[CV] END max_depth=8, min_samples_leaf=40, min_samples_split=150, n_estimators=50; total time=   3.5s\n",
            "[CV] END max_depth=8, min_samples_leaf=40, min_samples_split=150, n_estimators=80; total time=   5.1s\n",
            "[CV] END max_depth=8, min_samples_leaf=40, min_samples_split=150, n_estimators=80; total time=   4.4s\n",
            "[CV] END max_depth=8, min_samples_leaf=40, min_samples_split=150, n_estimators=80; total time=   5.3s\n",
            "[CV] END max_depth=8, min_samples_leaf=40, min_samples_split=150, n_estimators=80; total time=   6.6s\n",
            "[CV] END max_depth=8, min_samples_leaf=40, min_samples_split=150, n_estimators=80; total time=   4.4s\n",
            "[CV] END max_depth=8, min_samples_leaf=40, min_samples_split=150, n_estimators=100; total time=   5.7s\n",
            "[CV] END max_depth=8, min_samples_leaf=40, min_samples_split=150, n_estimators=100; total time=   6.8s\n",
            "[CV] END max_depth=8, min_samples_leaf=40, min_samples_split=150, n_estimators=100; total time=   5.5s\n",
            "[CV] END max_depth=8, min_samples_leaf=40, min_samples_split=150, n_estimators=100; total time=   6.9s\n",
            "[CV] END max_depth=8, min_samples_leaf=40, min_samples_split=150, n_estimators=100; total time=   5.6s\n",
            "[CV] END max_depth=8, min_samples_leaf=50, min_samples_split=50, n_estimators=50; total time=   2.8s\n",
            "[CV] END max_depth=8, min_samples_leaf=50, min_samples_split=50, n_estimators=50; total time=   3.3s\n",
            "[CV] END max_depth=8, min_samples_leaf=50, min_samples_split=50, n_estimators=50; total time=   3.6s\n",
            "[CV] END max_depth=8, min_samples_leaf=50, min_samples_split=50, n_estimators=50; total time=   2.8s\n",
            "[CV] END max_depth=8, min_samples_leaf=50, min_samples_split=50, n_estimators=50; total time=   2.8s\n",
            "[CV] END max_depth=8, min_samples_leaf=50, min_samples_split=50, n_estimators=80; total time=   4.9s\n",
            "[CV] END max_depth=8, min_samples_leaf=50, min_samples_split=50, n_estimators=80; total time=   5.3s\n",
            "[CV] END max_depth=8, min_samples_leaf=50, min_samples_split=50, n_estimators=80; total time=   4.5s\n",
            "[CV] END max_depth=8, min_samples_leaf=50, min_samples_split=50, n_estimators=80; total time=   4.9s\n",
            "[CV] END max_depth=8, min_samples_leaf=50, min_samples_split=50, n_estimators=80; total time=   5.3s\n",
            "[CV] END max_depth=8, min_samples_leaf=50, min_samples_split=50, n_estimators=100; total time=   5.5s\n",
            "[CV] END max_depth=8, min_samples_leaf=50, min_samples_split=50, n_estimators=100; total time=   6.7s\n",
            "[CV] END max_depth=8, min_samples_leaf=50, min_samples_split=50, n_estimators=100; total time=   5.5s\n",
            "[CV] END max_depth=8, min_samples_leaf=50, min_samples_split=50, n_estimators=100; total time=   5.9s\n",
            "[CV] END max_depth=8, min_samples_leaf=50, min_samples_split=50, n_estimators=100; total time=   6.3s\n",
            "[CV] END max_depth=8, min_samples_leaf=50, min_samples_split=100, n_estimators=50; total time=   2.8s\n",
            "[CV] END max_depth=8, min_samples_leaf=50, min_samples_split=100, n_estimators=50; total time=   2.8s\n",
            "[CV] END max_depth=8, min_samples_leaf=50, min_samples_split=100, n_estimators=50; total time=   3.5s\n",
            "[CV] END max_depth=8, min_samples_leaf=50, min_samples_split=100, n_estimators=50; total time=   3.3s\n",
            "[CV] END max_depth=8, min_samples_leaf=50, min_samples_split=100, n_estimators=50; total time=   2.8s\n",
            "[CV] END max_depth=8, min_samples_leaf=50, min_samples_split=100, n_estimators=80; total time=   4.4s\n",
            "[CV] END max_depth=8, min_samples_leaf=50, min_samples_split=100, n_estimators=80; total time=   5.5s\n",
            "[CV] END max_depth=8, min_samples_leaf=50, min_samples_split=100, n_estimators=80; total time=   4.6s\n",
            "[CV] END max_depth=8, min_samples_leaf=50, min_samples_split=100, n_estimators=80; total time=   4.5s\n",
            "[CV] END max_depth=8, min_samples_leaf=50, min_samples_split=100, n_estimators=80; total time=   5.6s\n",
            "[CV] END max_depth=8, min_samples_leaf=50, min_samples_split=100, n_estimators=100; total time=   5.7s\n",
            "[CV] END max_depth=8, min_samples_leaf=50, min_samples_split=100, n_estimators=100; total time=   5.7s\n",
            "[CV] END max_depth=8, min_samples_leaf=50, min_samples_split=100, n_estimators=100; total time=   6.4s\n",
            "[CV] END max_depth=8, min_samples_leaf=50, min_samples_split=100, n_estimators=100; total time=   5.5s\n",
            "[CV] END max_depth=8, min_samples_leaf=50, min_samples_split=100, n_estimators=100; total time=   7.5s\n",
            "[CV] END max_depth=8, min_samples_leaf=50, min_samples_split=150, n_estimators=50; total time=   3.7s\n",
            "[CV] END max_depth=8, min_samples_leaf=50, min_samples_split=150, n_estimators=50; total time=   2.7s\n",
            "[CV] END max_depth=8, min_samples_leaf=50, min_samples_split=150, n_estimators=50; total time=   2.8s\n",
            "[CV] END max_depth=8, min_samples_leaf=50, min_samples_split=150, n_estimators=50; total time=   3.1s\n",
            "[CV] END max_depth=8, min_samples_leaf=50, min_samples_split=150, n_estimators=50; total time=   3.7s\n",
            "[CV] END max_depth=8, min_samples_leaf=50, min_samples_split=150, n_estimators=80; total time=   4.3s\n",
            "[CV] END max_depth=8, min_samples_leaf=50, min_samples_split=150, n_estimators=80; total time=   4.4s\n",
            "[CV] END max_depth=8, min_samples_leaf=50, min_samples_split=150, n_estimators=80; total time=   5.6s\n",
            "[CV] END max_depth=8, min_samples_leaf=50, min_samples_split=150, n_estimators=80; total time=   4.4s\n",
            "[CV] END max_depth=8, min_samples_leaf=50, min_samples_split=150, n_estimators=80; total time=   4.3s\n",
            "[CV] END max_depth=8, min_samples_leaf=50, min_samples_split=150, n_estimators=100; total time=   6.7s\n",
            "[CV] END max_depth=8, min_samples_leaf=50, min_samples_split=150, n_estimators=100; total time=   5.5s\n",
            "[CV] END max_depth=8, min_samples_leaf=50, min_samples_split=150, n_estimators=100; total time=   6.1s\n",
            "[CV] END max_depth=8, min_samples_leaf=50, min_samples_split=150, n_estimators=100; total time=   6.0s\n",
            "[CV] END max_depth=8, min_samples_leaf=50, min_samples_split=150, n_estimators=100; total time=   5.5s\n"
          ]
        },
        {
          "output_type": "execute_result",
          "data": {
            "text/plain": [
              "GridSearchCV(cv=5, estimator=RandomForestClassifier(),\n",
              "             param_grid={'max_depth': [4, 6, 8], 'min_samples_leaf': [40, 50],\n",
              "                         'min_samples_split': [50, 100, 150],\n",
              "                         'n_estimators': [50, 80, 100]},\n",
              "             scoring='roc_auc', verbose=2)"
            ],
            "text/html": [
              "<style>#sk-container-id-3 {color: black;}#sk-container-id-3 pre{padding: 0;}#sk-container-id-3 div.sk-toggleable {background-color: white;}#sk-container-id-3 label.sk-toggleable__label {cursor: pointer;display: block;width: 100%;margin-bottom: 0;padding: 0.3em;box-sizing: border-box;text-align: center;}#sk-container-id-3 label.sk-toggleable__label-arrow:before {content: \"▸\";float: left;margin-right: 0.25em;color: #696969;}#sk-container-id-3 label.sk-toggleable__label-arrow:hover:before {color: black;}#sk-container-id-3 div.sk-estimator:hover label.sk-toggleable__label-arrow:before {color: black;}#sk-container-id-3 div.sk-toggleable__content {max-height: 0;max-width: 0;overflow: hidden;text-align: left;background-color: #f0f8ff;}#sk-container-id-3 div.sk-toggleable__content pre {margin: 0.2em;color: black;border-radius: 0.25em;background-color: #f0f8ff;}#sk-container-id-3 input.sk-toggleable__control:checked~div.sk-toggleable__content {max-height: 200px;max-width: 100%;overflow: auto;}#sk-container-id-3 input.sk-toggleable__control:checked~label.sk-toggleable__label-arrow:before {content: \"▾\";}#sk-container-id-3 div.sk-estimator input.sk-toggleable__control:checked~label.sk-toggleable__label {background-color: #d4ebff;}#sk-container-id-3 div.sk-label input.sk-toggleable__control:checked~label.sk-toggleable__label {background-color: #d4ebff;}#sk-container-id-3 input.sk-hidden--visually {border: 0;clip: rect(1px 1px 1px 1px);clip: rect(1px, 1px, 1px, 1px);height: 1px;margin: -1px;overflow: hidden;padding: 0;position: absolute;width: 1px;}#sk-container-id-3 div.sk-estimator {font-family: monospace;background-color: #f0f8ff;border: 1px dotted black;border-radius: 0.25em;box-sizing: border-box;margin-bottom: 0.5em;}#sk-container-id-3 div.sk-estimator:hover {background-color: #d4ebff;}#sk-container-id-3 div.sk-parallel-item::after {content: \"\";width: 100%;border-bottom: 1px solid gray;flex-grow: 1;}#sk-container-id-3 div.sk-label:hover label.sk-toggleable__label {background-color: #d4ebff;}#sk-container-id-3 div.sk-serial::before {content: \"\";position: absolute;border-left: 1px solid gray;box-sizing: border-box;top: 0;bottom: 0;left: 50%;z-index: 0;}#sk-container-id-3 div.sk-serial {display: flex;flex-direction: column;align-items: center;background-color: white;padding-right: 0.2em;padding-left: 0.2em;position: relative;}#sk-container-id-3 div.sk-item {position: relative;z-index: 1;}#sk-container-id-3 div.sk-parallel {display: flex;align-items: stretch;justify-content: center;background-color: white;position: relative;}#sk-container-id-3 div.sk-item::before, #sk-container-id-3 div.sk-parallel-item::before {content: \"\";position: absolute;border-left: 1px solid gray;box-sizing: border-box;top: 0;bottom: 0;left: 50%;z-index: -1;}#sk-container-id-3 div.sk-parallel-item {display: flex;flex-direction: column;z-index: 1;position: relative;background-color: white;}#sk-container-id-3 div.sk-parallel-item:first-child::after {align-self: flex-end;width: 50%;}#sk-container-id-3 div.sk-parallel-item:last-child::after {align-self: flex-start;width: 50%;}#sk-container-id-3 div.sk-parallel-item:only-child::after {width: 0;}#sk-container-id-3 div.sk-dashed-wrapped {border: 1px dashed gray;margin: 0 0.4em 0.5em 0.4em;box-sizing: border-box;padding-bottom: 0.4em;background-color: white;}#sk-container-id-3 div.sk-label label {font-family: monospace;font-weight: bold;display: inline-block;line-height: 1.2em;}#sk-container-id-3 div.sk-label-container {text-align: center;}#sk-container-id-3 div.sk-container {/* jupyter's `normalize.less` sets `[hidden] { display: none; }` but bootstrap.min.css set `[hidden] { display: none !important; }` so we also need the `!important` here to be able to override the default hidden behavior on the sphinx rendered scikit-learn.org. See: https://github.com/scikit-learn/scikit-learn/issues/21755 */display: inline-block !important;position: relative;}#sk-container-id-3 div.sk-text-repr-fallback {display: none;}</style><div id=\"sk-container-id-3\" class=\"sk-top-container\"><div class=\"sk-text-repr-fallback\"><pre>GridSearchCV(cv=5, estimator=RandomForestClassifier(),\n",
              "             param_grid={&#x27;max_depth&#x27;: [4, 6, 8], &#x27;min_samples_leaf&#x27;: [40, 50],\n",
              "                         &#x27;min_samples_split&#x27;: [50, 100, 150],\n",
              "                         &#x27;n_estimators&#x27;: [50, 80, 100]},\n",
              "             scoring=&#x27;roc_auc&#x27;, verbose=2)</pre><b>In a Jupyter environment, please rerun this cell to show the HTML representation or trust the notebook. <br />On GitHub, the HTML representation is unable to render, please try loading this page with nbviewer.org.</b></div><div class=\"sk-container\" hidden><div class=\"sk-item sk-dashed-wrapped\"><div class=\"sk-label-container\"><div class=\"sk-label sk-toggleable\"><input class=\"sk-toggleable__control sk-hidden--visually\" id=\"sk-estimator-id-5\" type=\"checkbox\" ><label for=\"sk-estimator-id-5\" class=\"sk-toggleable__label sk-toggleable__label-arrow\">GridSearchCV</label><div class=\"sk-toggleable__content\"><pre>GridSearchCV(cv=5, estimator=RandomForestClassifier(),\n",
              "             param_grid={&#x27;max_depth&#x27;: [4, 6, 8], &#x27;min_samples_leaf&#x27;: [40, 50],\n",
              "                         &#x27;min_samples_split&#x27;: [50, 100, 150],\n",
              "                         &#x27;n_estimators&#x27;: [50, 80, 100]},\n",
              "             scoring=&#x27;roc_auc&#x27;, verbose=2)</pre></div></div></div><div class=\"sk-parallel\"><div class=\"sk-parallel-item\"><div class=\"sk-item\"><div class=\"sk-label-container\"><div class=\"sk-label sk-toggleable\"><input class=\"sk-toggleable__control sk-hidden--visually\" id=\"sk-estimator-id-6\" type=\"checkbox\" ><label for=\"sk-estimator-id-6\" class=\"sk-toggleable__label sk-toggleable__label-arrow\">estimator: RandomForestClassifier</label><div class=\"sk-toggleable__content\"><pre>RandomForestClassifier()</pre></div></div></div><div class=\"sk-serial\"><div class=\"sk-item\"><div class=\"sk-estimator sk-toggleable\"><input class=\"sk-toggleable__control sk-hidden--visually\" id=\"sk-estimator-id-7\" type=\"checkbox\" ><label for=\"sk-estimator-id-7\" class=\"sk-toggleable__label sk-toggleable__label-arrow\">RandomForestClassifier</label><div class=\"sk-toggleable__content\"><pre>RandomForestClassifier()</pre></div></div></div></div></div></div></div></div></div></div>"
            ]
          },
          "metadata": {},
          "execution_count": 52
        }
      ]
    },
    {
      "cell_type": "code",
      "source": [
        "rf_optimal_model = rf_grid.best_estimator_"
      ],
      "metadata": {
        "id": "0Bd-hWUqftfd"
      },
      "execution_count": null,
      "outputs": []
    },
    {
      "cell_type": "code",
      "source": [
        "train_class_preds = rf_optimal_model.predict(X1_train)\n",
        "test_class_preds = rf_optimal_model.predict(X1_test)\n",
        "\n",
        "\n",
        "# Get the probabilities on train and test\n",
        "train_preds = rf_optimal_model.predict_proba(X1_train)[:,1]\n",
        "test_preds = rf_optimal_model.predict_proba(X1_test)[:,1]"
      ],
      "metadata": {
        "id": "IvEcZZaBf6IS"
      },
      "execution_count": null,
      "outputs": []
    },
    {
      "cell_type": "code",
      "source": [
        "# Calculate roc_auc score on train set\n",
        "roc_auc_score(Y1_train,train_preds)"
      ],
      "metadata": {
        "colab": {
          "base_uri": "https://localhost:8080/"
        },
        "id": "FQ_b0dGYgBzr",
        "outputId": "380d7b2b-5e07-4747-d797-2254ed5a6335"
      },
      "execution_count": null,
      "outputs": [
        {
          "output_type": "execute_result",
          "data": {
            "text/plain": [
              "0.8563262814744417"
            ]
          },
          "metadata": {},
          "execution_count": 55
        }
      ]
    },
    {
      "cell_type": "code",
      "source": [
        "# Calculate F1 Score\n",
        "print('f1_score for training data set',f1_score(Y1_train,train_class_preds))\n",
        "print('f_1 score for testing data set',f1_score(Y1_test,test_class_preds))"
      ],
      "metadata": {
        "colab": {
          "base_uri": "https://localhost:8080/"
        },
        "id": "6N07wfeS113I",
        "outputId": "66d9d38f-bf89-414f-8f8d-0d08ed2f3c40"
      },
      "execution_count": null,
      "outputs": [
        {
          "output_type": "stream",
          "name": "stdout",
          "text": [
            "f1_score for training data set 0.7592634560906516\n",
            "f_1 score for testing data set 0.7514490282986702\n"
          ]
        }
      ]
    },
    {
      "cell_type": "markdown",
      "source": [
        "# Conclusion\n"
      ],
      "metadata": {
        "id": "76pQoCRB3M3u"
      }
    },
    {
      "cell_type": "markdown",
      "source": [
        "\n",
        "\n",
        "* From all baseline model, Random forest classifier shows highest test accuracy and F1 score and AUC.\n",
        "* Baseline model of Random forest and decision tree shows huge difference in train and test accuracy which shows overfitting.\n",
        "\n",
        "\n",
        "* After handling class imbalance using **SMOTE**, XG Boost shows highest F1 score of 0.816\n",
        "\n",
        "*  \n",
        "\n",
        "\n"
      ],
      "metadata": {
        "id": "G-gEUsbJ3RbF"
      }
    }
  ]
}